{
 "cells": [
  {
   "cell_type": "code",
   "execution_count": 1,
   "metadata": {},
   "outputs": [],
   "source": [
    "import pandas as pd"
   ]
  },
  {
   "cell_type": "markdown",
   "metadata": {},
   "source": [
    "Data Filtering - empty or removed comments, comments containing bot content"
   ]
  },
  {
   "cell_type": "code",
   "execution_count": 4,
   "metadata": {},
   "outputs": [
    {
     "data": {
      "text/html": [
       "<div>\n",
       "<style scoped>\n",
       "    .dataframe tbody tr th:only-of-type {\n",
       "        vertical-align: middle;\n",
       "    }\n",
       "\n",
       "    .dataframe tbody tr th {\n",
       "        vertical-align: top;\n",
       "    }\n",
       "\n",
       "    .dataframe thead th {\n",
       "        text-align: right;\n",
       "    }\n",
       "</style>\n",
       "<table border=\"1\" class=\"dataframe\">\n",
       "  <thead>\n",
       "    <tr style=\"text-align: right;\">\n",
       "      <th></th>\n",
       "      <th>author</th>\n",
       "      <th>title</th>\n",
       "    </tr>\n",
       "  </thead>\n",
       "  <tbody>\n",
       "    <tr>\n",
       "      <th>0</th>\n",
       "      <td>womenwarecom</td>\n",
       "      <td>all the people that i know that took the vacci...</td>\n",
       "    </tr>\n",
       "    <tr>\n",
       "      <th>1</th>\n",
       "      <td>PoliticalBlackGirl</td>\n",
       "      <td>\"Black men have access to the president tools....</td>\n",
       "    </tr>\n",
       "    <tr>\n",
       "      <th>2</th>\n",
       "      <td>whoseth</td>\n",
       "      <td>An Idea I had for the Place Subreddit.</td>\n",
       "    </tr>\n",
       "    <tr>\n",
       "      <th>3</th>\n",
       "      <td>whoseth</td>\n",
       "      <td>My idea for r/place to make Reddit squirm. I m...</td>\n",
       "    </tr>\n",
       "    <tr>\n",
       "      <th>4</th>\n",
       "      <td>goddardYYZ</td>\n",
       "      <td>/place isn't what you think</td>\n",
       "    </tr>\n",
       "  </tbody>\n",
       "</table>\n",
       "</div>"
      ],
      "text/plain": [
       "               author                                              title\n",
       "0        womenwarecom  all the people that i know that took the vacci...\n",
       "1  PoliticalBlackGirl  \"Black men have access to the president tools....\n",
       "2             whoseth             An Idea I had for the Place Subreddit.\n",
       "3             whoseth  My idea for r/place to make Reddit squirm. I m...\n",
       "4          goddardYYZ                        /place isn't what you think"
      ]
     },
     "execution_count": 4,
     "metadata": {},
     "output_type": "execute_result"
    }
   ],
   "source": [
    "subreddit = 'conspiracy'\n",
    "content_type = 'submissions'\n",
    "column = 'title'\n",
    "filename = f'./data/{subreddit}_{content_type}.csv'\n",
    "dataframe = pd.read_csv(filename, compression='gzip', encoding='utf-8', low_memory=False)\n",
    "dataframe.isnull().sum()\n",
    "comments = dataframe[['author', column]]\n",
    "comments = comments.drop(comments.index[(comments['author'] == '[deleted]')], axis=0, inplace=False)\n",
    "comments = comments.drop(comments.index[(comments['author'] == 'AutoModerator')], axis=0, inplace=False)\n",
    "comments.head()\n"
   ]
  },
  {
   "cell_type": "code",
   "execution_count": 5,
   "metadata": {},
   "outputs": [],
   "source": [
    "comments.to_csv(f'./data/{subreddit}_{content_type}_filtered.csv', header=True, index=False, columns=list(comments.axes[1]), compression='gzip', encoding='utf-8')"
   ]
  }
 ],
 "metadata": {
  "interpreter": {
   "hash": "e7370f93d1d0cde622a1f8e1c04877d8463912d04d973331ad4851f04de6915a"
  },
  "kernelspec": {
   "display_name": "Python 3.10.2 64-bit",
   "language": "python",
   "name": "python3"
  },
  "language_info": {
   "codemirror_mode": {
    "name": "ipython",
    "version": 3
   },
   "file_extension": ".py",
   "mimetype": "text/x-python",
   "name": "python",
   "nbconvert_exporter": "python",
   "pygments_lexer": "ipython3",
   "version": "3.10.2"
  },
  "orig_nbformat": 4
 },
 "nbformat": 4,
 "nbformat_minor": 2
}
