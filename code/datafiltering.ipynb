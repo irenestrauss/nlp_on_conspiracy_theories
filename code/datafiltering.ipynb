{
 "cells": [
  {
   "cell_type": "code",
   "execution_count": 2,
   "metadata": {},
   "outputs": [],
   "source": [
    "import pandas as pd"
   ]
  },
  {
   "cell_type": "markdown",
   "metadata": {},
   "source": [
    "Data Filtering - empty or removed comments, comments containing bot content"
   ]
  },
  {
   "cell_type": "code",
   "execution_count": 3,
   "metadata": {},
   "outputs": [
    {
     "data": {
      "text/plain": [
       "all_awardings                          0\n",
       "archived                               0\n",
       "associated_award                   10000\n",
       "author                                 0\n",
       "author_flair_background_color      10000\n",
       "author_flair_css_class             10000\n",
       "author_flair_richtext                433\n",
       "author_flair_template_id           10000\n",
       "author_flair_text                  10000\n",
       "author_flair_text_color             9567\n",
       "author_flair_type                    433\n",
       "author_fullname                      433\n",
       "author_patreon_flair                 433\n",
       "author_premium                       433\n",
       "body                                   0\n",
       "body_sha1                              0\n",
       "can_gild                               0\n",
       "collapsed                              0\n",
       "collapsed_because_crowd_control    10000\n",
       "collapsed_reason                   10000\n",
       "collapsed_reason_code              10000\n",
       "comment_type                       10000\n",
       "controversiality                       0\n",
       "created_utc                            0\n",
       "distinguished                       9661\n",
       "gilded                                 0\n",
       "gildings                               0\n",
       "id                                     0\n",
       "is_submitter                           0\n",
       "link_id                                0\n",
       "locked                                 0\n",
       "no_follow                              0\n",
       "parent_id                              0\n",
       "permalink                              0\n",
       "retrieved_utc                          0\n",
       "score                                  0\n",
       "score_hidden                           0\n",
       "send_replies                           0\n",
       "stickied                               0\n",
       "subreddit                              0\n",
       "subreddit_id                           0\n",
       "subreddit_name_prefixed                0\n",
       "subreddit_type                         0\n",
       "top_awarded_type                   10000\n",
       "total_awards_received                  0\n",
       "treatment_tags                         0\n",
       "unrepliable_reason                 10000\n",
       "author_cakeday                      9970\n",
       "dtype: int64"
      ]
     },
     "execution_count": 3,
     "metadata": {},
     "output_type": "execute_result"
    }
   ],
   "source": [
    "subreddit = 'conspiracy'\n",
    "filename = f'{subreddit}_comments.csv'\n",
    "dataframe = pd.read_csv(filename, compression='gzip')\n",
    "dataframe.isnull().sum()"
   ]
  },
  {
   "cell_type": "code",
   "execution_count": 32,
   "metadata": {},
   "outputs": [],
   "source": [
    "comments = dataframe[['author', 'body']]\n",
    "comments = comments.drop(comments.index[(comments['author'] == '[deleted]')], axis=0, inplace=False)\n",
    "comments = comments.drop(comments.index[(comments['author'] == 'AutoModerator')], axis=0, inplace=False)\n"
   ]
  },
  {
   "cell_type": "code",
   "execution_count": 33,
   "metadata": {},
   "outputs": [],
   "source": [
    "comments.to_csv(f'./{subreddit}_comments_filtered.csv', header=True, index=False, columns=list(comments.axes[1]), compression='gzip', encoding='utf-8')"
   ]
  }
 ],
 "metadata": {
  "interpreter": {
   "hash": "e7370f93d1d0cde622a1f8e1c04877d8463912d04d973331ad4851f04de6915a"
  },
  "kernelspec": {
   "display_name": "Python 3.10.2 64-bit",
   "language": "python",
   "name": "python3"
  },
  "language_info": {
   "codemirror_mode": {
    "name": "ipython",
    "version": 3
   },
   "file_extension": ".py",
   "mimetype": "text/x-python",
   "name": "python",
   "nbconvert_exporter": "python",
   "pygments_lexer": "ipython3",
   "version": "3.10.2"
  },
  "orig_nbformat": 4
 },
 "nbformat": 4,
 "nbformat_minor": 2
}
