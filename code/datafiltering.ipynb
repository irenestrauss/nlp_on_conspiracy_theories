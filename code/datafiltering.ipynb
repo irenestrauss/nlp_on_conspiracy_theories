{
 "cells": [
  {
   "cell_type": "code",
   "execution_count": 9,
   "metadata": {},
   "outputs": [],
   "source": [
    "import pandas as pd"
   ]
  },
  {
   "cell_type": "markdown",
   "metadata": {},
   "source": [
    "Data Filtering - empty or removed comments, comments containing bot content"
   ]
  },
  {
   "cell_type": "code",
   "execution_count": 10,
   "metadata": {},
   "outputs": [
    {
     "name": "stdout",
     "output_type": "stream",
     "text": [
      "Index(['all_awardings', 'archived', 'associated_award', 'author',\n",
      "       'author_flair_background_color', 'author_flair_css_class',\n",
      "       'author_flair_richtext', 'author_flair_template_id',\n",
      "       'author_flair_text', 'author_flair_text_color', 'author_flair_type',\n",
      "       'author_fullname', 'author_patreon_flair', 'author_premium', 'body',\n",
      "       'body_sha1', 'can_gild', 'collapsed', 'collapsed_because_crowd_control',\n",
      "       'collapsed_reason', 'collapsed_reason_code', 'comment_type',\n",
      "       'controversiality', 'created_utc', 'distinguished', 'gilded',\n",
      "       'gildings', 'id', 'is_submitter', 'link_id', 'locked', 'no_follow',\n",
      "       'parent_id', 'permalink', 'retrieved_utc', 'score', 'score_hidden',\n",
      "       'send_replies', 'stickied', 'subreddit', 'subreddit_id',\n",
      "       'subreddit_name_prefixed', 'subreddit_type', 'top_awarded_type',\n",
      "       'total_awards_received', 'treatment_tags', 'unrepliable_reason',\n",
      "       'author_cakeday'],\n",
      "      dtype='object')\n"
     ]
    },
    {
     "data": {
      "text/html": [
       "<div>\n",
       "<style scoped>\n",
       "    .dataframe tbody tr th:only-of-type {\n",
       "        vertical-align: middle;\n",
       "    }\n",
       "\n",
       "    .dataframe tbody tr th {\n",
       "        vertical-align: top;\n",
       "    }\n",
       "\n",
       "    .dataframe thead th {\n",
       "        text-align: right;\n",
       "    }\n",
       "</style>\n",
       "<table border=\"1\" class=\"dataframe\">\n",
       "  <thead>\n",
       "    <tr style=\"text-align: right;\">\n",
       "      <th></th>\n",
       "      <th>author</th>\n",
       "      <th>body</th>\n",
       "    </tr>\n",
       "  </thead>\n",
       "  <tbody>\n",
       "    <tr>\n",
       "      <th>0</th>\n",
       "      <td>grape_david</td>\n",
       "      <td>I mean, I know from working with them that man...</td>\n",
       "    </tr>\n",
       "    <tr>\n",
       "      <th>1</th>\n",
       "      <td>edsriver</td>\n",
       "      <td>The cure for anything is salt water — sweat, t...</td>\n",
       "    </tr>\n",
       "    <tr>\n",
       "      <th>2</th>\n",
       "      <td>m_dogg</td>\n",
       "      <td>Thanks for this. I got a rescue dog a few week...</td>\n",
       "    </tr>\n",
       "    <tr>\n",
       "      <th>3</th>\n",
       "      <td>Sparky-Man</td>\n",
       "      <td>You know what also makes people happy? Money.</td>\n",
       "    </tr>\n",
       "    <tr>\n",
       "      <th>4</th>\n",
       "      <td>Bard2dbone</td>\n",
       "      <td>I disagree. The rank and file Republicans are ...</td>\n",
       "    </tr>\n",
       "  </tbody>\n",
       "</table>\n",
       "</div>"
      ],
      "text/plain": [
       "        author                                               body\n",
       "0  grape_david  I mean, I know from working with them that man...\n",
       "1     edsriver  The cure for anything is salt water — sweat, t...\n",
       "2       m_dogg  Thanks for this. I got a rescue dog a few week...\n",
       "3   Sparky-Man      You know what also makes people happy? Money.\n",
       "4   Bard2dbone  I disagree. The rank and file Republicans are ..."
      ]
     },
     "execution_count": 10,
     "metadata": {},
     "output_type": "execute_result"
    }
   ],
   "source": [
    "subreddit = 'mixed'\n",
    "content_type = 'comments'\n",
    "column = 'body'\n",
    "filename = f'./data/{subreddit}_{content_type}.csv'\n",
    "dataframe = pd.read_csv(filename, encoding='utf-8', low_memory=False)\n",
    "dataframe.isnull().sum()\n",
    "print(dataframe.columns)\n",
    "comments = dataframe[['author', column]]\n",
    "comments = comments.drop(comments.index[(comments['author'] == '[deleted]')], axis=0, inplace=False)\n",
    "comments = comments.drop(comments.index[(comments['author'] == 'AutoModerator')], axis=0, inplace=False)\n",
    "comments.head()\n"
   ]
  },
  {
   "cell_type": "code",
   "execution_count": 11,
   "metadata": {},
   "outputs": [],
   "source": [
    "comments.to_csv(f'./data/{subreddit}_{content_type}_filtered.csv', header=True, index=False, columns=list(comments.axes[1]), encoding='utf-8')"
   ]
  },
  {
   "cell_type": "code",
   "execution_count": 12,
   "metadata": {},
   "outputs": [
    {
     "data": {
      "text/plain": [
       "(4556, 2)"
      ]
     },
     "execution_count": 12,
     "metadata": {},
     "output_type": "execute_result"
    }
   ],
   "source": [
    "comments.shape"
   ]
  }
 ],
 "metadata": {
  "interpreter": {
   "hash": "e7370f93d1d0cde622a1f8e1c04877d8463912d04d973331ad4851f04de6915a"
  },
  "kernelspec": {
   "display_name": "Python 3.10.2 64-bit",
   "language": "python",
   "name": "python3"
  },
  "language_info": {
   "codemirror_mode": {
    "name": "ipython",
    "version": 3
   },
   "file_extension": ".py",
   "mimetype": "text/x-python",
   "name": "python",
   "nbconvert_exporter": "python",
   "pygments_lexer": "ipython3",
   "version": "3.10.2"
  },
  "orig_nbformat": 4
 },
 "nbformat": 4,
 "nbformat_minor": 2
}
