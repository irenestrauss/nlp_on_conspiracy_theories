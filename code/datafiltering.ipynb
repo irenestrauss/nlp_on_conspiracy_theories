{
 "cells": [
  {
   "cell_type": "code",
   "execution_count": 5,
   "metadata": {},
   "outputs": [],
   "source": [
    "import pandas as pd"
   ]
  },
  {
   "cell_type": "markdown",
   "metadata": {},
   "source": [
    "Data Filtering - empty or removed comments, comments containing bot content"
   ]
  },
  {
   "cell_type": "code",
   "execution_count": 6,
   "metadata": {},
   "outputs": [
    {
     "name": "stderr",
     "output_type": "stream",
     "text": [
      "/tmp/ipykernel_2464/243873700.py:3: DtypeWarning: Columns (1,2,16,17,18,19,20,22,23,25,28,30,31,36,37,38) have mixed types. Specify dtype option on import or set low_memory=False.\n",
      "  dataframe = pd.read_csv(filename, compression='gzip')\n"
     ]
    },
    {
     "data": {
      "text/plain": [
       "all_awardings                           0\n",
       "archived                                0\n",
       "associated_award                   100000\n",
       "author                                  0\n",
       "author_flair_background_color      100001\n",
       "author_flair_css_class             100001\n",
       "author_flair_richtext                4212\n",
       "author_flair_template_id           100001\n",
       "author_flair_text                  100000\n",
       "author_flair_text_color             95786\n",
       "author_flair_type                    4212\n",
       "author_fullname                      4211\n",
       "author_patreon_flair                 4211\n",
       "author_premium                       4211\n",
       "body                                    1\n",
       "body_sha1                               1\n",
       "can_gild                                1\n",
       "collapsed                               1\n",
       "collapsed_because_crowd_control    100000\n",
       "collapsed_reason                    99998\n",
       "collapsed_reason_code               99998\n",
       "comment_type                       100000\n",
       "controversiality                        1\n",
       "created_utc                             1\n",
       "distinguished                       97039\n",
       "gilded                                  1\n",
       "gildings                                1\n",
       "id                                      1\n",
       "is_submitter                            1\n",
       "link_id                                 2\n",
       "locked                                  1\n",
       "no_follow                               1\n",
       "parent_id                               2\n",
       "permalink                               2\n",
       "retrieved_utc                           2\n",
       "score                                   2\n",
       "score_hidden                            2\n",
       "send_replies                            2\n",
       "stickied                                2\n",
       "subreddit                               2\n",
       "subreddit_id                            2\n",
       "subreddit_name_prefixed                 2\n",
       "subreddit_type                          2\n",
       "top_awarded_type                   100001\n",
       "total_awards_received                   2\n",
       "treatment_tags                          2\n",
       "unrepliable_reason                 100001\n",
       "author_cakeday                      99677\n",
       "edited                              99984\n",
       "dtype: int64"
      ]
     },
     "execution_count": 6,
     "metadata": {},
     "output_type": "execute_result"
    }
   ],
   "source": [
    "subreddit = 'conspiracy'\n",
    "filename = f'{subreddit}_comments.csv'\n",
    "dataframe = pd.read_csv(filename, compression='gzip')\n",
    "dataframe.isnull().sum()"
   ]
  },
  {
   "cell_type": "code",
   "execution_count": 3,
   "metadata": {},
   "outputs": [],
   "source": [
    "comments = dataframe[['author', 'body']]\n",
    "comments = comments.drop(comments.index[(comments['author'] == '[deleted]')], axis=0, inplace=False)\n",
    "comments = comments.drop(comments.index[(comments['author'] == 'AutoModerator')], axis=0, inplace=False)\n"
   ]
  },
  {
   "cell_type": "code",
   "execution_count": 4,
   "metadata": {},
   "outputs": [],
   "source": [
    "comments.to_csv(f'./{subreddit}_comments_filtered.csv', header=True, index=False, columns=list(comments.axes[1]), compression='gzip', encoding='utf-8')"
   ]
  }
 ],
 "metadata": {
  "interpreter": {
   "hash": "e7370f93d1d0cde622a1f8e1c04877d8463912d04d973331ad4851f04de6915a"
  },
  "kernelspec": {
   "display_name": "Python 3.10.2 64-bit",
   "language": "python",
   "name": "python3"
  },
  "language_info": {
   "codemirror_mode": {
    "name": "ipython",
    "version": 3
   },
   "file_extension": ".py",
   "mimetype": "text/x-python",
   "name": "python",
   "nbconvert_exporter": "python",
   "pygments_lexer": "ipython3",
   "version": "3.10.2"
  },
  "orig_nbformat": 4
 },
 "nbformat": 4,
 "nbformat_minor": 2
}
