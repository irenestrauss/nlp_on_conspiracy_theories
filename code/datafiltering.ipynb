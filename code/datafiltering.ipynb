{
 "cells": [
  {
   "cell_type": "code",
   "execution_count": 10,
   "metadata": {},
   "outputs": [],
   "source": [
    "import pandas as pd"
   ]
  },
  {
   "cell_type": "markdown",
   "metadata": {},
   "source": [
    "Data Filtering - empty or removed comments, comments containing bot content"
   ]
  },
  {
   "cell_type": "code",
   "execution_count": 21,
   "metadata": {},
   "outputs": [
    {
     "name": "stdout",
     "output_type": "stream",
     "text": [
      "Index(['all_awardings', 'allow_live_comments', 'author',\n",
      "       'author_flair_css_class', 'author_flair_richtext', 'author_flair_text',\n",
      "       'author_flair_type', 'author_fullname', 'author_is_blocked',\n",
      "       'author_patreon_flair', 'author_premium', 'awarders', 'can_mod_post',\n",
      "       'contest_mode', 'created_utc', 'domain', 'full_link', 'gildings', 'id',\n",
      "       'is_created_from_ads_ui', 'is_crosspostable', 'is_meta',\n",
      "       'is_original_content', 'is_reddit_media_domain', 'is_robot_indexable',\n",
      "       'is_self', 'is_video', 'link_flair_background_color',\n",
      "       'link_flair_richtext', 'link_flair_text_color', 'link_flair_type',\n",
      "       'locked', 'media_only', 'no_follow', 'num_comments', 'num_crossposts',\n",
      "       'over_18', 'parent_whitelist_status', 'permalink', 'pinned',\n",
      "       'post_hint', 'preview', 'pwls', 'retrieved_on', 'score', 'selftext',\n",
      "       'send_replies', 'spoiler', 'stickied', 'subreddit', 'subreddit_id',\n",
      "       'subreddit_subscribers', 'subreddit_type', 'thumbnail',\n",
      "       'thumbnail_height', 'thumbnail_width', 'title', 'total_awards_received',\n",
      "       'treatment_tags', 'upvote_ratio', 'url', 'url_overridden_by_dest',\n",
      "       'whitelist_status', 'wls', 'media', 'media_embed', 'secure_media',\n",
      "       'secure_media_embed', 'link_flair_text', 'removed_by_category',\n",
      "       'media_metadata', 'author_flair_background_color',\n",
      "       'author_flair_text_color', 'banned_by', 'author_cakeday',\n",
      "       'link_flair_css_class', 'crosspost_parent', 'crosspost_parent_list',\n",
      "       'call_to_action', 'category', 'edited'],\n",
      "      dtype='object')\n"
     ]
    },
    {
     "data": {
      "text/html": [
       "<div>\n",
       "<style scoped>\n",
       "    .dataframe tbody tr th:only-of-type {\n",
       "        vertical-align: middle;\n",
       "    }\n",
       "\n",
       "    .dataframe tbody tr th {\n",
       "        vertical-align: top;\n",
       "    }\n",
       "\n",
       "    .dataframe thead th {\n",
       "        text-align: right;\n",
       "    }\n",
       "</style>\n",
       "<table border=\"1\" class=\"dataframe\">\n",
       "  <thead>\n",
       "    <tr style=\"text-align: right;\">\n",
       "      <th></th>\n",
       "      <th>author</th>\n",
       "      <th>title</th>\n",
       "      <th>num_comments</th>\n",
       "      <th>num_crossposts</th>\n",
       "      <th>author_is_blocked</th>\n",
       "    </tr>\n",
       "  </thead>\n",
       "  <tbody>\n",
       "    <tr>\n",
       "      <th>0</th>\n",
       "      <td>ChildrensHealthDef</td>\n",
       "      <td>New York Post Attacks RFK, Jr. as Sales of ‘Th...</td>\n",
       "      <td>1</td>\n",
       "      <td>0</td>\n",
       "      <td>False</td>\n",
       "    </tr>\n",
       "    <tr>\n",
       "      <th>1</th>\n",
       "      <td>Lotso_Packetloss</td>\n",
       "      <td>What good are NATO sanctions against Russia wh...</td>\n",
       "      <td>1</td>\n",
       "      <td>0</td>\n",
       "      <td>False</td>\n",
       "    </tr>\n",
       "    <tr>\n",
       "      <th>2</th>\n",
       "      <td>mr_clemFandango</td>\n",
       "      <td>Ukraine Crisis - What You're Not Being Told 20...</td>\n",
       "      <td>1</td>\n",
       "      <td>0</td>\n",
       "      <td>False</td>\n",
       "    </tr>\n",
       "    <tr>\n",
       "      <th>3</th>\n",
       "      <td>lh7884</td>\n",
       "      <td>Bill Gates: 'If every country does what Austra...</td>\n",
       "      <td>1</td>\n",
       "      <td>0</td>\n",
       "      <td>False</td>\n",
       "    </tr>\n",
       "    <tr>\n",
       "      <th>4</th>\n",
       "      <td>One2alwaysplay</td>\n",
       "      <td>What's really going on??</td>\n",
       "      <td>1</td>\n",
       "      <td>0</td>\n",
       "      <td>False</td>\n",
       "    </tr>\n",
       "  </tbody>\n",
       "</table>\n",
       "</div>"
      ],
      "text/plain": [
       "               author                                              title  \\\n",
       "0  ChildrensHealthDef  New York Post Attacks RFK, Jr. as Sales of ‘Th...   \n",
       "1    Lotso_Packetloss  What good are NATO sanctions against Russia wh...   \n",
       "2     mr_clemFandango  Ukraine Crisis - What You're Not Being Told 20...   \n",
       "3              lh7884  Bill Gates: 'If every country does what Austra...   \n",
       "4      One2alwaysplay                           What's really going on??   \n",
       "\n",
       "   num_comments  num_crossposts  author_is_blocked  \n",
       "0             1               0              False  \n",
       "1             1               0              False  \n",
       "2             1               0              False  \n",
       "3             1               0              False  \n",
       "4             1               0              False  "
      ]
     },
     "execution_count": 21,
     "metadata": {},
     "output_type": "execute_result"
    }
   ],
   "source": [
    "subreddit = 'conspiracy'\n",
    "content_type = 'submissions'\n",
    "column = 'title'\n",
    "filename = f'./data/{subreddit}_{content_type}.csv'\n",
    "dataframe = pd.read_csv(filename, compression='gzip', encoding='utf-8', low_memory=False)\n",
    "dataframe.isnull().sum()\n",
    "print(dataframe.columns)\n",
    "comments = dataframe[['author', column, 'num_comments', 'num_crossposts', 'author_is_blocked']]\n",
    "comments = comments.drop(comments.index[(comments['author'] == '[deleted]')], axis=0, inplace=False)\n",
    "comments = comments.drop(comments.index[(comments['author'] == 'AutoModerator')], axis=0, inplace=False)\n",
    "comments.head()\n"
   ]
  },
  {
   "cell_type": "code",
   "execution_count": 19,
   "metadata": {},
   "outputs": [],
   "source": [
    "comments.to_csv(f'./data/{subreddit}_{content_type}_filtered.csv', header=True, index=False, columns=list(comments.axes[1]), compression='gzip', encoding='utf-8')"
   ]
  }
 ],
 "metadata": {
  "interpreter": {
   "hash": "e7370f93d1d0cde622a1f8e1c04877d8463912d04d973331ad4851f04de6915a"
  },
  "kernelspec": {
   "display_name": "Python 3.10.2 64-bit",
   "language": "python",
   "name": "python3"
  },
  "language_info": {
   "codemirror_mode": {
    "name": "ipython",
    "version": 3
   },
   "file_extension": ".py",
   "mimetype": "text/x-python",
   "name": "python",
   "nbconvert_exporter": "python",
   "pygments_lexer": "ipython3",
   "version": "3.10.4"
  },
  "orig_nbformat": 4
 },
 "nbformat": 4,
 "nbformat_minor": 2
}
