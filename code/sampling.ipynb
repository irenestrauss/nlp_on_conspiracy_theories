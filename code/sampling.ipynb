{
 "cells": [
  {
   "cell_type": "code",
   "execution_count": 1,
   "metadata": {},
   "outputs": [
    {
     "name": "stderr",
     "output_type": "stream",
     "text": [
      "/tmp/ipykernel_2722/2920891482.py:9: FutureWarning: The frame.append method is deprecated and will be removed from pandas in a future version. Use pandas.concat instead.\n",
      "  sample_df = sample_df.append(dataframe.iloc[element])\n",
      "/tmp/ipykernel_2722/2920891482.py:9: FutureWarning: The frame.append method is deprecated and will be removed from pandas in a future version. Use pandas.concat instead.\n",
      "  sample_df = sample_df.append(dataframe.iloc[element])\n",
      "/tmp/ipykernel_2722/2920891482.py:9: FutureWarning: The frame.append method is deprecated and will be removed from pandas in a future version. Use pandas.concat instead.\n",
      "  sample_df = sample_df.append(dataframe.iloc[element])\n",
      "/tmp/ipykernel_2722/2920891482.py:9: FutureWarning: The frame.append method is deprecated and will be removed from pandas in a future version. Use pandas.concat instead.\n",
      "  sample_df = sample_df.append(dataframe.iloc[element])\n",
      "/tmp/ipykernel_2722/2920891482.py:9: FutureWarning: The frame.append method is deprecated and will be removed from pandas in a future version. Use pandas.concat instead.\n",
      "  sample_df = sample_df.append(dataframe.iloc[element])\n",
      "/tmp/ipykernel_2722/2920891482.py:9: FutureWarning: The frame.append method is deprecated and will be removed from pandas in a future version. Use pandas.concat instead.\n",
      "  sample_df = sample_df.append(dataframe.iloc[element])\n",
      "/tmp/ipykernel_2722/2920891482.py:9: FutureWarning: The frame.append method is deprecated and will be removed from pandas in a future version. Use pandas.concat instead.\n",
      "  sample_df = sample_df.append(dataframe.iloc[element])\n",
      "/tmp/ipykernel_2722/2920891482.py:9: FutureWarning: The frame.append method is deprecated and will be removed from pandas in a future version. Use pandas.concat instead.\n",
      "  sample_df = sample_df.append(dataframe.iloc[element])\n",
      "/tmp/ipykernel_2722/2920891482.py:9: FutureWarning: The frame.append method is deprecated and will be removed from pandas in a future version. Use pandas.concat instead.\n",
      "  sample_df = sample_df.append(dataframe.iloc[element])\n",
      "/tmp/ipykernel_2722/2920891482.py:9: FutureWarning: The frame.append method is deprecated and will be removed from pandas in a future version. Use pandas.concat instead.\n",
      "  sample_df = sample_df.append(dataframe.iloc[element])\n",
      "/tmp/ipykernel_2722/2920891482.py:9: FutureWarning: The frame.append method is deprecated and will be removed from pandas in a future version. Use pandas.concat instead.\n",
      "  sample_df = sample_df.append(dataframe.iloc[element])\n",
      "/tmp/ipykernel_2722/2920891482.py:9: FutureWarning: The frame.append method is deprecated and will be removed from pandas in a future version. Use pandas.concat instead.\n",
      "  sample_df = sample_df.append(dataframe.iloc[element])\n",
      "/tmp/ipykernel_2722/2920891482.py:9: FutureWarning: The frame.append method is deprecated and will be removed from pandas in a future version. Use pandas.concat instead.\n",
      "  sample_df = sample_df.append(dataframe.iloc[element])\n",
      "/tmp/ipykernel_2722/2920891482.py:9: FutureWarning: The frame.append method is deprecated and will be removed from pandas in a future version. Use pandas.concat instead.\n",
      "  sample_df = sample_df.append(dataframe.iloc[element])\n",
      "/tmp/ipykernel_2722/2920891482.py:9: FutureWarning: The frame.append method is deprecated and will be removed from pandas in a future version. Use pandas.concat instead.\n",
      "  sample_df = sample_df.append(dataframe.iloc[element])\n",
      "/tmp/ipykernel_2722/2920891482.py:9: FutureWarning: The frame.append method is deprecated and will be removed from pandas in a future version. Use pandas.concat instead.\n",
      "  sample_df = sample_df.append(dataframe.iloc[element])\n",
      "/tmp/ipykernel_2722/2920891482.py:9: FutureWarning: The frame.append method is deprecated and will be removed from pandas in a future version. Use pandas.concat instead.\n",
      "  sample_df = sample_df.append(dataframe.iloc[element])\n",
      "/tmp/ipykernel_2722/2920891482.py:9: FutureWarning: The frame.append method is deprecated and will be removed from pandas in a future version. Use pandas.concat instead.\n",
      "  sample_df = sample_df.append(dataframe.iloc[element])\n",
      "/tmp/ipykernel_2722/2920891482.py:9: FutureWarning: The frame.append method is deprecated and will be removed from pandas in a future version. Use pandas.concat instead.\n",
      "  sample_df = sample_df.append(dataframe.iloc[element])\n",
      "/tmp/ipykernel_2722/2920891482.py:9: FutureWarning: The frame.append method is deprecated and will be removed from pandas in a future version. Use pandas.concat instead.\n",
      "  sample_df = sample_df.append(dataframe.iloc[element])\n"
     ]
    }
   ],
   "source": [
    "import random\n",
    "import pandas as pd\n",
    "l = random.sample(range(36000), 30)\n",
    "dataframe = pd.read_csv('./data/ukraine_submissions_redditapi.csv', encoding='utf-8', low_memory=False)\n",
    "sample_df = pd.DataFrame()\n",
    "i = 0\n",
    "for element in l:\n",
    "    if dataframe.iloc[element][\"self_text\"] not in {\"[removed]\", \"[deleted]\"} and i < 30:\n",
    "        sample_df = sample_df.append(dataframe.iloc[element])\n",
    "        i = i + 1\n",
    "\n",
    "sample_df.to_csv(f'./data/ukraine_submissions_sample.csv', header=True, index=False, columns=list(dataframe.axes[1]), encoding='utf-8')"
   ]
  }
 ],
 "metadata": {
  "interpreter": {
   "hash": "e7370f93d1d0cde622a1f8e1c04877d8463912d04d973331ad4851f04de6915a"
  },
  "kernelspec": {
   "display_name": "Python 3.10.2 64-bit",
   "language": "python",
   "name": "python3"
  },
  "language_info": {
   "codemirror_mode": {
    "name": "ipython",
    "version": 3
   },
   "file_extension": ".py",
   "mimetype": "text/x-python",
   "name": "python",
   "nbconvert_exporter": "python",
   "pygments_lexer": "ipython3",
   "version": "3.10.2"
  },
  "orig_nbformat": 4
 },
 "nbformat": 4,
 "nbformat_minor": 2
}
