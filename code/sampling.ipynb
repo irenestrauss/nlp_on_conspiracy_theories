{
 "cells": [
  {
   "cell_type": "code",
   "execution_count": 9,
   "metadata": {},
   "outputs": [
    {
     "name": "stdout",
     "output_type": "stream",
     "text": [
      "(8435, 12)\n"
     ]
    },
    {
     "name": "stderr",
     "output_type": "stream",
     "text": [
      "C:\\Users\\1408\\AppData\\Local\\Temp\\ipykernel_12608\\3849303722.py:12: FutureWarning: The frame.append method is deprecated and will be removed from pandas in a future version. Use pandas.concat instead.\n",
      "  sample_df = sample_df.append(dataframe.iloc[element])\n",
      "C:\\Users\\1408\\AppData\\Local\\Temp\\ipykernel_12608\\3849303722.py:12: FutureWarning: The frame.append method is deprecated and will be removed from pandas in a future version. Use pandas.concat instead.\n",
      "  sample_df = sample_df.append(dataframe.iloc[element])\n",
      "C:\\Users\\1408\\AppData\\Local\\Temp\\ipykernel_12608\\3849303722.py:12: FutureWarning: The frame.append method is deprecated and will be removed from pandas in a future version. Use pandas.concat instead.\n",
      "  sample_df = sample_df.append(dataframe.iloc[element])\n",
      "C:\\Users\\1408\\AppData\\Local\\Temp\\ipykernel_12608\\3849303722.py:12: FutureWarning: The frame.append method is deprecated and will be removed from pandas in a future version. Use pandas.concat instead.\n",
      "  sample_df = sample_df.append(dataframe.iloc[element])\n",
      "C:\\Users\\1408\\AppData\\Local\\Temp\\ipykernel_12608\\3849303722.py:12: FutureWarning: The frame.append method is deprecated and will be removed from pandas in a future version. Use pandas.concat instead.\n",
      "  sample_df = sample_df.append(dataframe.iloc[element])\n",
      "C:\\Users\\1408\\AppData\\Local\\Temp\\ipykernel_12608\\3849303722.py:12: FutureWarning: The frame.append method is deprecated and will be removed from pandas in a future version. Use pandas.concat instead.\n",
      "  sample_df = sample_df.append(dataframe.iloc[element])\n",
      "C:\\Users\\1408\\AppData\\Local\\Temp\\ipykernel_12608\\3849303722.py:12: FutureWarning: The frame.append method is deprecated and will be removed from pandas in a future version. Use pandas.concat instead.\n",
      "  sample_df = sample_df.append(dataframe.iloc[element])\n",
      "C:\\Users\\1408\\AppData\\Local\\Temp\\ipykernel_12608\\3849303722.py:12: FutureWarning: The frame.append method is deprecated and will be removed from pandas in a future version. Use pandas.concat instead.\n",
      "  sample_df = sample_df.append(dataframe.iloc[element])\n",
      "C:\\Users\\1408\\AppData\\Local\\Temp\\ipykernel_12608\\3849303722.py:12: FutureWarning: The frame.append method is deprecated and will be removed from pandas in a future version. Use pandas.concat instead.\n",
      "  sample_df = sample_df.append(dataframe.iloc[element])\n",
      "C:\\Users\\1408\\AppData\\Local\\Temp\\ipykernel_12608\\3849303722.py:12: FutureWarning: The frame.append method is deprecated and will be removed from pandas in a future version. Use pandas.concat instead.\n",
      "  sample_df = sample_df.append(dataframe.iloc[element])\n",
      "C:\\Users\\1408\\AppData\\Local\\Temp\\ipykernel_12608\\3849303722.py:12: FutureWarning: The frame.append method is deprecated and will be removed from pandas in a future version. Use pandas.concat instead.\n",
      "  sample_df = sample_df.append(dataframe.iloc[element])\n",
      "C:\\Users\\1408\\AppData\\Local\\Temp\\ipykernel_12608\\3849303722.py:12: FutureWarning: The frame.append method is deprecated and will be removed from pandas in a future version. Use pandas.concat instead.\n",
      "  sample_df = sample_df.append(dataframe.iloc[element])\n",
      "C:\\Users\\1408\\AppData\\Local\\Temp\\ipykernel_12608\\3849303722.py:12: FutureWarning: The frame.append method is deprecated and will be removed from pandas in a future version. Use pandas.concat instead.\n",
      "  sample_df = sample_df.append(dataframe.iloc[element])\n",
      "C:\\Users\\1408\\AppData\\Local\\Temp\\ipykernel_12608\\3849303722.py:12: FutureWarning: The frame.append method is deprecated and will be removed from pandas in a future version. Use pandas.concat instead.\n",
      "  sample_df = sample_df.append(dataframe.iloc[element])\n",
      "C:\\Users\\1408\\AppData\\Local\\Temp\\ipykernel_12608\\3849303722.py:12: FutureWarning: The frame.append method is deprecated and will be removed from pandas in a future version. Use pandas.concat instead.\n",
      "  sample_df = sample_df.append(dataframe.iloc[element])\n",
      "C:\\Users\\1408\\AppData\\Local\\Temp\\ipykernel_12608\\3849303722.py:12: FutureWarning: The frame.append method is deprecated and will be removed from pandas in a future version. Use pandas.concat instead.\n",
      "  sample_df = sample_df.append(dataframe.iloc[element])\n",
      "C:\\Users\\1408\\AppData\\Local\\Temp\\ipykernel_12608\\3849303722.py:12: FutureWarning: The frame.append method is deprecated and will be removed from pandas in a future version. Use pandas.concat instead.\n",
      "  sample_df = sample_df.append(dataframe.iloc[element])\n",
      "C:\\Users\\1408\\AppData\\Local\\Temp\\ipykernel_12608\\3849303722.py:12: FutureWarning: The frame.append method is deprecated and will be removed from pandas in a future version. Use pandas.concat instead.\n",
      "  sample_df = sample_df.append(dataframe.iloc[element])\n",
      "C:\\Users\\1408\\AppData\\Local\\Temp\\ipykernel_12608\\3849303722.py:12: FutureWarning: The frame.append method is deprecated and will be removed from pandas in a future version. Use pandas.concat instead.\n",
      "  sample_df = sample_df.append(dataframe.iloc[element])\n",
      "C:\\Users\\1408\\AppData\\Local\\Temp\\ipykernel_12608\\3849303722.py:12: FutureWarning: The frame.append method is deprecated and will be removed from pandas in a future version. Use pandas.concat instead.\n",
      "  sample_df = sample_df.append(dataframe.iloc[element])\n",
      "C:\\Users\\1408\\AppData\\Local\\Temp\\ipykernel_12608\\3849303722.py:12: FutureWarning: The frame.append method is deprecated and will be removed from pandas in a future version. Use pandas.concat instead.\n",
      "  sample_df = sample_df.append(dataframe.iloc[element])\n",
      "C:\\Users\\1408\\AppData\\Local\\Temp\\ipykernel_12608\\3849303722.py:12: FutureWarning: The frame.append method is deprecated and will be removed from pandas in a future version. Use pandas.concat instead.\n",
      "  sample_df = sample_df.append(dataframe.iloc[element])\n",
      "C:\\Users\\1408\\AppData\\Local\\Temp\\ipykernel_12608\\3849303722.py:12: FutureWarning: The frame.append method is deprecated and will be removed from pandas in a future version. Use pandas.concat instead.\n",
      "  sample_df = sample_df.append(dataframe.iloc[element])\n",
      "C:\\Users\\1408\\AppData\\Local\\Temp\\ipykernel_12608\\3849303722.py:12: FutureWarning: The frame.append method is deprecated and will be removed from pandas in a future version. Use pandas.concat instead.\n",
      "  sample_df = sample_df.append(dataframe.iloc[element])\n",
      "C:\\Users\\1408\\AppData\\Local\\Temp\\ipykernel_12608\\3849303722.py:12: FutureWarning: The frame.append method is deprecated and will be removed from pandas in a future version. Use pandas.concat instead.\n",
      "  sample_df = sample_df.append(dataframe.iloc[element])\n",
      "C:\\Users\\1408\\AppData\\Local\\Temp\\ipykernel_12608\\3849303722.py:12: FutureWarning: The frame.append method is deprecated and will be removed from pandas in a future version. Use pandas.concat instead.\n",
      "  sample_df = sample_df.append(dataframe.iloc[element])\n",
      "C:\\Users\\1408\\AppData\\Local\\Temp\\ipykernel_12608\\3849303722.py:12: FutureWarning: The frame.append method is deprecated and will be removed from pandas in a future version. Use pandas.concat instead.\n",
      "  sample_df = sample_df.append(dataframe.iloc[element])\n",
      "C:\\Users\\1408\\AppData\\Local\\Temp\\ipykernel_12608\\3849303722.py:12: FutureWarning: The frame.append method is deprecated and will be removed from pandas in a future version. Use pandas.concat instead.\n",
      "  sample_df = sample_df.append(dataframe.iloc[element])\n",
      "C:\\Users\\1408\\AppData\\Local\\Temp\\ipykernel_12608\\3849303722.py:12: FutureWarning: The frame.append method is deprecated and will be removed from pandas in a future version. Use pandas.concat instead.\n",
      "  sample_df = sample_df.append(dataframe.iloc[element])\n",
      "C:\\Users\\1408\\AppData\\Local\\Temp\\ipykernel_12608\\3849303722.py:12: FutureWarning: The frame.append method is deprecated and will be removed from pandas in a future version. Use pandas.concat instead.\n",
      "  sample_df = sample_df.append(dataframe.iloc[element])\n"
     ]
    }
   ],
   "source": [
    "import random\n",
    "import pandas as pd\n",
    "dataframe = pd.read_csv('./data/ukraine_filtered.csv', encoding='utf-8', low_memory=False)\n",
    "\n",
    "print(dataframe.shape)\n",
    "l = random.sample(range(dataframe.shape[0]), 100)\n",
    "sample_df = pd.DataFrame()\n",
    "\n",
    "i = 0\n",
    "for element in l:\n",
    "    if dataframe.iloc[element][\"self_text\"] not in {\"[removed]\", \"[deleted]\"} and i < 30:\n",
    "        sample_df = sample_df.append(dataframe.iloc[element])\n",
    "        i = i + 1\n",
    "\n",
    "sample_df.to_csv(f'./data/UkrainianConflict_test_sample.csv', header=True, index=False, columns=list(dataframe.axes[1]), encoding='utf-8')"
   ]
  }
 ],
 "metadata": {
  "interpreter": {
   "hash": "b552e9e2291ee47d97a6f9068176d4d60c8957403441ee997b7a7bce0cd7c764"
  },
  "kernelspec": {
   "display_name": "Python 3.10.4 64-bit",
   "language": "python",
   "name": "python3"
  },
  "language_info": {
   "codemirror_mode": {
    "name": "ipython",
    "version": 3
   },
   "file_extension": ".py",
   "mimetype": "text/x-python",
   "name": "python",
   "nbconvert_exporter": "python",
   "pygments_lexer": "ipython3",
   "version": "3.10.4"
  },
  "orig_nbformat": 4
 },
 "nbformat": 4,
 "nbformat_minor": 2
}
