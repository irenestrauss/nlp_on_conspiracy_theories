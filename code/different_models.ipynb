{
 "cells": [
  {
   "cell_type": "code",
   "execution_count": 1,
   "metadata": {},
   "outputs": [],
   "source": [
    "import pandas as pd\n",
    "\n",
    "from sklearn.feature_extraction.text import TfidfVectorizer\n",
    "from sklearn.model_selection import train_test_split\n",
    "from sklearn.linear_model import LogisticRegression\n",
    "from sklearn.metrics import classification_report, confusion_matrix, ConfusionMatrixDisplay\n",
    "from sklearn.naive_bayes import MultinomialNB\n",
    "from sklearn.svm import LinearSVC\n",
    "\n",
    "import matplotlib.pyplot as plt\n",
    "import nltk\n",
    "import re\n"
   ]
  },
  {
   "cell_type": "code",
   "execution_count": 2,
   "metadata": {},
   "outputs": [],
   "source": [
    "def readData():\n",
    "    df = pd.read_csv(f'./data/conspiracy_submissions_filtered.csv', compression='gzip')\n",
    "    df = df[['title']]\n",
    "    df['label'] = 0\n",
    "    df_control = pd.read_csv(f'./data/worldnews_submissions_filtered.csv', compression='gzip')\n",
    "    df_control = df_control[['title']]\n",
    "    df_control['label'] = 1\n",
    "    df = pd.concat([df, df_control], axis=0)\n",
    "    return df\n",
    "\n",
    "def showBalance(df):\n",
    "    fig = plt.figure(figsize=(8,6))\n",
    "    df.groupby('label').count().plot.bar(ylim=0)\n",
    "    plt.show()\n"
   ]
  },
  {
   "cell_type": "code",
   "execution_count": 3,
   "metadata": {},
   "outputs": [
    {
     "data": {
      "text/html": [
       "<div>\n",
       "<style scoped>\n",
       "    .dataframe tbody tr th:only-of-type {\n",
       "        vertical-align: middle;\n",
       "    }\n",
       "\n",
       "    .dataframe tbody tr th {\n",
       "        vertical-align: top;\n",
       "    }\n",
       "\n",
       "    .dataframe thead th {\n",
       "        text-align: right;\n",
       "    }\n",
       "</style>\n",
       "<table border=\"1\" class=\"dataframe\">\n",
       "  <thead>\n",
       "    <tr style=\"text-align: right;\">\n",
       "      <th></th>\n",
       "      <th>title</th>\n",
       "      <th>label</th>\n",
       "    </tr>\n",
       "  </thead>\n",
       "  <tbody>\n",
       "    <tr>\n",
       "      <th>0</th>\n",
       "      <td>Just opened my eyes</td>\n",
       "      <td>0</td>\n",
       "    </tr>\n",
       "    <tr>\n",
       "      <th>1</th>\n",
       "      <td>We are experiencing an almost unnatural divisi...</td>\n",
       "      <td>0</td>\n",
       "    </tr>\n",
       "    <tr>\n",
       "      <th>2</th>\n",
       "      <td>I am very, very grateful that Hillary Clinton ...</td>\n",
       "      <td>0</td>\n",
       "    </tr>\n",
       "    <tr>\n",
       "      <th>3</th>\n",
       "      <td>“Putin may circle Kyiv with tanks, but he’ll n...</td>\n",
       "      <td>0</td>\n",
       "    </tr>\n",
       "    <tr>\n",
       "      <th>4</th>\n",
       "      <td>Putin locking up people including kids for pro...</td>\n",
       "      <td>0</td>\n",
       "    </tr>\n",
       "  </tbody>\n",
       "</table>\n",
       "</div>"
      ],
      "text/plain": [
       "                                               title  label\n",
       "0                                Just opened my eyes      0\n",
       "1  We are experiencing an almost unnatural divisi...      0\n",
       "2  I am very, very grateful that Hillary Clinton ...      0\n",
       "3  “Putin may circle Kyiv with tanks, but he’ll n...      0\n",
       "4  Putin locking up people including kids for pro...      0"
      ]
     },
     "execution_count": 3,
     "metadata": {},
     "output_type": "execute_result"
    }
   ],
   "source": [
    "df = readData()\n",
    "df.head()"
   ]
  },
  {
   "cell_type": "code",
   "execution_count": 4,
   "metadata": {},
   "outputs": [
    {
     "data": {
      "text/plain": [
       "<Figure size 576x432 with 0 Axes>"
      ]
     },
     "metadata": {},
     "output_type": "display_data"
    },
    {
     "data": {
      "image/png": "[encoded data removed]",
      "text/plain": [
       "<Figure size 432x288 with 1 Axes>"
      ]
     },
     "metadata": {
      "needs_background": "light"
     },
     "output_type": "display_data"
    }
   ],
   "source": [
    "showBalance(df)"
   ]
  },
  {
   "cell_type": "code",
   "execution_count": 5,
   "metadata": {},
   "outputs": [],
   "source": [
    "def preprocessing(text):\n",
    "    text = str(text)\n",
    "    text = text.lower()\n",
    "    return re.sub(r\"(@\\[A-Za-z0-9]+)|(\\w+:\\/\\/\\S+)|^&gt;\",\"\",text)\n",
    "\n",
    "def tokenize(text):\n",
    "    tokenizer = nltk.RegexpTokenizer(r\"\\w+\")\n",
    "    lemmatizer = nltk.WordNetLemmatizer()\n",
    "    text = re.sub(r\"[^0-9A-Za-z' \\t]\",\"\",text)\n",
    "    text = tokenizer.tokenize(text)\n",
    "    text = [lemmatizer.lemmatize(word, pos=\"v\") for word in text]\n",
    "    return text"
   ]
  },
  {
   "cell_type": "code",
   "execution_count": 6,
   "metadata": {},
   "outputs": [
    {
     "name": "stderr",
     "output_type": "stream",
     "text": [
      "C:\\Users\\isoma\\AppData\\Local\\Programs\\Python\\Python310\\lib\\site-packages\\sklearn\\feature_extraction\\text.py:396: UserWarning: Your stop_words may be inconsistent with your preprocessing. Tokenizing the stop words generated tokens ['make'] not in stop_words.\n",
      "  warnings.warn(\n"
     ]
    },
    {
     "data": {
      "text/plain": [
       "(21178, 7723)"
      ]
     },
     "execution_count": 6,
     "metadata": {},
     "output_type": "execute_result"
    }
   ],
   "source": [
    "tfidf = TfidfVectorizer(preprocessor=preprocessing,\n",
    "                        tokenizer=tokenize,\n",
    "                        sublinear_tf=True, \n",
    "                        min_df=5, \n",
    "                        norm='l2', \n",
    "                        encoding='utf-8', \n",
    "                        ngram_range=(1, 2), \n",
    "                        stop_words='english')\n",
    "features = tfidf.fit_transform(df.title).toarray()\n",
    "labels = df.label\n",
    "features.shape"
   ]
  },
  {
   "cell_type": "code",
   "execution_count": 7,
   "metadata": {},
   "outputs": [],
   "source": [
    "def printTopFeaturesPerCategory(category):\n",
    "  '''chi2_features = chi2(features, labels == category)\n",
    "  chi2_features = np.argsort(chi2_features[0])\n",
    "  print(category, chi2_features)\n",
    "  feature_names = np.array(tfidf.get_feature_names_out())[chi2_features]\n",
    "  print(feature_names[:10])'''\n",
    "  \n",
    "\n",
    "\n",
    "\n",
    "\n",
    "\n"
   ]
  },
  {
   "cell_type": "code",
   "execution_count": 8,
   "metadata": {},
   "outputs": [],
   "source": [
    "#printTopFeaturesPerCategory(0)\n",
    "#printTopFeaturesPerCategory(1)"
   ]
  },
  {
   "cell_type": "code",
   "execution_count": 9,
   "metadata": {},
   "outputs": [],
   "source": [
    "tfidf_vectorizer = TfidfVectorizer()"
   ]
  },
  {
   "cell_type": "code",
   "execution_count": 10,
   "metadata": {},
   "outputs": [],
   "source": [
    "\n",
    "X_train, X_test, y_train, y_test = train_test_split(df['title'], df['label'], random_state = 42)\n",
    "X_train_tfidf = tfidf_vectorizer.fit_transform(X_train)\n",
    "X_test_tf = tfidf_vectorizer.transform(X_test)\n"
   ]
  },
  {
   "cell_type": "code",
   "execution_count": 11,
   "metadata": {},
   "outputs": [],
   "source": [
    "def predict(model):\n",
    "    clf = model.fit(X_train_tfidf, y_train)\n",
    "    y_pred = model.predict(X_test_tf)\n",
    "    rep = classification_report(y_test, y_pred)\n",
    "    print(rep)\n",
    "    conf_matrix = confusion_matrix(y_test, y_pred, normalize='true')\n",
    "    conf_matrix_display = ConfusionMatrixDisplay(confusion_matrix=conf_matrix)\n",
    "    conf_matrix_display.plot(cmap='Blues')"
   ]
  },
  {
   "cell_type": "code",
   "execution_count": 12,
   "metadata": {},
   "outputs": [
    {
     "name": "stdout",
     "output_type": "stream",
     "text": [
      "              precision    recall  f1-score   support\n",
      "\n",
      "           0       0.87      0.66      0.75      1765\n",
      "           1       0.85      0.95      0.90      3530\n",
      "\n",
      "    accuracy                           0.85      5295\n",
      "   macro avg       0.86      0.80      0.82      5295\n",
      "weighted avg       0.85      0.85      0.85      5295\n",
      "\n",
      "              precision    recall  f1-score   support\n",
      "\n",
      "           0       0.82      0.78      0.80      1765\n",
      "           1       0.89      0.92      0.90      3530\n",
      "\n",
      "    accuracy                           0.87      5295\n",
      "   macro avg       0.86      0.85      0.85      5295\n",
      "weighted avg       0.87      0.87      0.87      5295\n",
      "\n",
      "              precision    recall  f1-score   support\n",
      "\n",
      "           0       0.84      0.74      0.79      1765\n",
      "           1       0.88      0.93      0.90      3530\n",
      "\n",
      "    accuracy                           0.87      5295\n",
      "   macro avg       0.86      0.84      0.85      5295\n",
      "weighted avg       0.87      0.87      0.87      5295\n",
      "\n"
     ]
    },
    {
     "data": {
      "image/png": "[encoded data removed]",
      "text/plain": [
       "<Figure size 432x288 with 2 Axes>"
      ]
     },
     "metadata": {
      "needs_background": "light"
     },
     "output_type": "display_data"
    },
    {
     "data": {
      "image/png": "[encoded data removed]",
      "text/plain": [
       "<Figure size 432x288 with 2 Axes>"
      ]
     },
     "metadata": {
      "needs_background": "light"
     },
     "output_type": "display_data"
    },
    {
     "data": {
      "image/png": "[encoded data removed]",
      "text/plain": [
       "<Figure size 432x288 with 2 Axes>"
      ]
     },
     "metadata": {
      "needs_background": "light"
     },
     "output_type": "display_data"
    }
   ],
   "source": [
    "naive_bayes = MultinomialNB()\n",
    "linear_svc = LinearSVC()\n",
    "log_reg = LogisticRegression(random_state=42)\n",
    "scores = []\n",
    "predict(naive_bayes)\n",
    "predict(linear_svc)\n",
    "predict(log_reg)\n"
   ]
  }
 ],
 "metadata": {
  "interpreter": {
   "hash": "0e90d7ce8669d1c39fe56826e764ae9c88499aa280199b292c55e7dadc62fa95"
  },
  "kernelspec": {
   "display_name": "Python 3.10.4 64-bit",
   "language": "python",
   "name": "python3"
  },
  "language_info": {
   "codemirror_mode": {
    "name": "ipython",
    "version": 3
   },
   "file_extension": ".py",
   "mimetype": "text/x-python",
   "name": "python",
   "nbconvert_exporter": "python",
   "pygments_lexer": "ipython3",
   "version": "3.10.4"
  },
  "orig_nbformat": 4
 },
 "nbformat": 4,
 "nbformat_minor": 2
}
