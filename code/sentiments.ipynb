{
 "cells": [
  {
   "cell_type": "code",
   "execution_count": 6,
   "metadata": {},
   "outputs": [],
   "source": [
    "import nltk\n",
    "import matplotlib.pyplot as plt\n",
    "import pandas as pd\n",
    "from vaderSentiment.vaderSentiment import SentimentIntensityAnalyzer\n",
    "from collections import Counter\n",
    "\n",
    "\n",
    "subreddit = 'ukrainetest'\n",
    "stop = nltk.corpus.stopwords.words('english')"
   ]
  },
  {
   "cell_type": "code",
   "execution_count": 7,
   "metadata": {},
   "outputs": [
    {
     "name": "stderr",
     "output_type": "stream",
     "text": [
      "C:\\Users\\1408\\AppData\\Local\\Temp\\ipykernel_10484\\3418925740.py:2: DtypeWarning: Columns (86,87,88) have mixed types. Specify dtype option on import or set low_memory=False.\n",
      "  dataframe = pd.read_csv(filename)\n"
     ]
    },
    {
     "data": {
      "text/plain": [
       "(25978, 89)"
      ]
     },
     "execution_count": 7,
     "metadata": {},
     "output_type": "execute_result"
    }
   ],
   "source": [
    "filename = f'./data/{subreddit}_filtered.csv'\n",
    "dataframe = pd.read_csv(filename)\n",
    "dataframe.shape"
   ]
  },
  {
   "cell_type": "markdown",
   "metadata": {},
   "source": [
    "concatenate title with selftext"
   ]
  },
  {
   "cell_type": "code",
   "execution_count": 8,
   "metadata": {},
   "outputs": [
    {
     "name": "stdout",
     "output_type": "stream",
     "text": [
      "0        why be putin attack ukraine he told us in a re...\n",
      "1        what be some interest fact about ukraine hello...\n",
      "2                 i be bring the peace support ukraine nan\n",
      "3        on russian propaganda and far right extremism ...\n",
      "4        i be born and adopt from ukraine i live in ire...\n",
      "                               ...                        \n",
      "25973    just earlier after six day the ukrainian air f...\n",
      "25974                   all the stress be get to putin nan\n",
      "25975    look like lukashenko get caught planning the i...\n",
      "25976                 you can help ukrainian people remove\n",
      "25977    what our society in the west can learn from uk...\n",
      "Name: wholetext, Length: 25978, dtype: object\n"
     ]
    },
    {
     "name": "stderr",
     "output_type": "stream",
     "text": [
      "C:\\Users\\1408\\AppData\\Local\\Temp\\ipykernel_10484\\2890766327.py:3: SettingWithCopyWarning: \n",
      "A value is trying to be set on a copy of a slice from a DataFrame.\n",
      "Try using .loc[row_indexer,col_indexer] = value instead\n",
      "\n",
      "See the caveats in the documentation: https://pandas.pydata.org/pandas-docs/stable/user_guide/indexing.html#returning-a-view-versus-a-copy\n",
      "  dataframe.loc[dataframe['selftext'].isin({ \"remove\", \"delete\", \"nan\"})]['selftext'] = \"\"\n"
     ]
    }
   ],
   "source": [
    "dataframe['title'] = dataframe['title'].apply(str) \n",
    "dataframe['selftext'] = dataframe['selftext'].apply(str) \n",
    "dataframe.loc[dataframe['selftext'].isin({ \"remove\", \"delete\", \"nan\"})]['selftext'] = \"\"\n",
    "dataframe['wholetext'] = dataframe['title'] + \" \" + dataframe['selftext']\n",
    "submissions = dataframe.wholetext\n",
    "print(dataframe.wholetext)"
   ]
  },
  {
   "cell_type": "markdown",
   "metadata": {},
   "source": [
    "check for sentiments"
   ]
  },
  {
   "cell_type": "code",
   "execution_count": 9,
   "metadata": {},
   "outputs": [
    {
     "data": {
      "image/png": "[encoded data removed]",
      "text/plain": [
       "<Figure size 432x288 with 1 Axes>"
      ]
     },
     "metadata": {
      "needs_background": "light"
     },
     "output_type": "display_data"
    }
   ],
   "source": [
    "sentiment_analyzer = SentimentIntensityAnalyzer()\n",
    "sentiments = []\n",
    "for submission in submissions:\n",
    "    sentiment = sentiment_analyzer.polarity_scores(submission)\n",
    "    if sentiment['compound'] >= 0.05:\n",
    "        sentiments.append('positive')\n",
    "    elif sentiment['compound'] <= -0.05:\n",
    "        sentiments.append('negative')\n",
    "    else :\n",
    "        sentiments.append('neutral')\n",
    "\n",
    "a = dict(Counter(sentiments))\n",
    "\n",
    "keys = sorted(list(a.keys()))\n",
    "values = []\n",
    "\n",
    "for key in keys:\n",
    "    values.append(a[key])\n",
    "\n",
    "plt.bar(range(len(a)), values, tick_label=keys)\n",
    "plt.title(f'r/{subreddit} sentiments')\n",
    "plt.show()"
   ]
  },
  {
   "cell_type": "code",
   "execution_count": 5,
   "metadata": {},
   "outputs": [
    {
     "name": "stderr",
     "output_type": "stream",
     "text": [
      "[nltk_data] Downloading package punkt to\n",
      "[nltk_data]     C:\\Users\\1408\\AppData\\Roaming\\nltk_data...\n",
      "[nltk_data]   Package punkt is already up-to-date!\n",
      "[nltk_data] Downloading package punkt to\n",
      "[nltk_data]     C:\\Users\\1408\\AppData\\Roaming\\nltk_data...\n",
      "[nltk_data]   Package punkt is already up-to-date!\n"
     ]
    },
    {
     "ename": "KeyboardInterrupt",
     "evalue": "",
     "output_type": "error",
     "traceback": [
      "\u001b[1;31m---------------------------------------------------------------------------\u001b[0m",
      "\u001b[1;31mKeyboardInterrupt\u001b[0m                         Traceback (most recent call last)",
      "\u001b[1;32mc:\\Users\\1408\\Documents\\nlp_on_conspiracy_theories\\code\\sentiments.ipynb Cell 7'\u001b[0m in \u001b[0;36m<cell line: 10>\u001b[1;34m()\u001b[0m\n\u001b[0;32m      <a href='vscode-notebook-cell:/c%3A/Users/1408/Documents/nlp_on_conspiracy_theories/code/sentiments.ipynb#ch0000006?line=7'>8</a>\u001b[0m \u001b[39mfrom\u001b[39;00m \u001b[39mLeXmo\u001b[39;00m \u001b[39mimport\u001b[39;00m LeXmo\n\u001b[0;32m     <a href='vscode-notebook-cell:/c%3A/Users/1408/Documents/nlp_on_conspiracy_theories/code/sentiments.ipynb#ch0000006?line=9'>10</a>\u001b[0m \u001b[39mfor\u001b[39;00m submission \u001b[39min\u001b[39;00m submissions:\n\u001b[1;32m---> <a href='vscode-notebook-cell:/c%3A/Users/1408/Documents/nlp_on_conspiracy_theories/code/sentiments.ipynb#ch0000006?line=10'>11</a>\u001b[0m     emo \u001b[39m=\u001b[39m LeXmo\u001b[39m.\u001b[39;49mLeXmo(submission)\n\u001b[0;32m     <a href='vscode-notebook-cell:/c%3A/Users/1408/Documents/nlp_on_conspiracy_theories/code/sentiments.ipynb#ch0000006?line=11'>12</a>\u001b[0m     \u001b[39mfor\u001b[39;00m key \u001b[39min\u001b[39;00m emo\u001b[39m.\u001b[39mkeys():\n\u001b[0;32m     <a href='vscode-notebook-cell:/c%3A/Users/1408/Documents/nlp_on_conspiracy_theories/code/sentiments.ipynb#ch0000006?line=12'>13</a>\u001b[0m         \u001b[39mif\u001b[39;00m key \u001b[39m!=\u001b[39m \u001b[39m'\u001b[39m\u001b[39mtext\u001b[39m\u001b[39m'\u001b[39m:\n",
      "File \u001b[1;32mc:\\Users\\1408\\AppData\\Local\\Programs\\Python\\Python310\\lib\\site-packages\\LeXmo\\LeXmo.py:33\u001b[0m, in \u001b[0;36mLeXmo\u001b[1;34m(text)\u001b[0m\n\u001b[0;32m     <a href='file:///c%3A/Users/1408/AppData/Local/Programs/Python/Python310/lib/site-packages/LeXmo/LeXmo.py?line=25'>26</a>\u001b[0m LeXmo_dict \u001b[39m=\u001b[39m {\u001b[39m'\u001b[39m\u001b[39mtext\u001b[39m\u001b[39m'\u001b[39m: text, \u001b[39m'\u001b[39m\u001b[39manger\u001b[39m\u001b[39m'\u001b[39m: [], \u001b[39m'\u001b[39m\u001b[39manticipation\u001b[39m\u001b[39m'\u001b[39m: [], \u001b[39m'\u001b[39m\u001b[39mdisgust\u001b[39m\u001b[39m'\u001b[39m: [], \u001b[39m'\u001b[39m\u001b[39mfear\u001b[39m\u001b[39m'\u001b[39m: [], \u001b[39m'\u001b[39m\u001b[39mjoy\u001b[39m\u001b[39m'\u001b[39m: [], \u001b[39m'\u001b[39m\u001b[39mnegative\u001b[39m\u001b[39m'\u001b[39m: [],\n\u001b[0;32m     <a href='file:///c%3A/Users/1408/AppData/Local/Programs/Python/Python310/lib/site-packages/LeXmo/LeXmo.py?line=26'>27</a>\u001b[0m               \u001b[39m'\u001b[39m\u001b[39mpositive\u001b[39m\u001b[39m'\u001b[39m: [], \u001b[39m'\u001b[39m\u001b[39msadness\u001b[39m\u001b[39m'\u001b[39m: [], \u001b[39m'\u001b[39m\u001b[39msurprise\u001b[39m\u001b[39m'\u001b[39m: [], \u001b[39m'\u001b[39m\u001b[39mtrust\u001b[39m\u001b[39m'\u001b[39m: []}\n\u001b[0;32m     <a href='file:///c%3A/Users/1408/AppData/Local/Programs/Python/Python310/lib/site-packages/LeXmo/LeXmo.py?line=28'>29</a>\u001b[0m emolex_df \u001b[39m=\u001b[39m pd\u001b[39m.\u001b[39mread_csv(nrc,\n\u001b[0;32m     <a href='file:///c%3A/Users/1408/AppData/Local/Programs/Python/Python310/lib/site-packages/LeXmo/LeXmo.py?line=29'>30</a>\u001b[0m                         names\u001b[39m=\u001b[39m[\u001b[39m\"\u001b[39m\u001b[39mword\u001b[39m\u001b[39m\"\u001b[39m, \u001b[39m\"\u001b[39m\u001b[39memotion\u001b[39m\u001b[39m\"\u001b[39m, \u001b[39m\"\u001b[39m\u001b[39massociation\u001b[39m\u001b[39m\"\u001b[39m],\n\u001b[0;32m     <a href='file:///c%3A/Users/1408/AppData/Local/Programs/Python/Python310/lib/site-packages/LeXmo/LeXmo.py?line=30'>31</a>\u001b[0m                         sep\u001b[39m=\u001b[39m\u001b[39mr\u001b[39m\u001b[39m'\u001b[39m\u001b[39m\\\u001b[39m\u001b[39mt\u001b[39m\u001b[39m'\u001b[39m, engine\u001b[39m=\u001b[39m\u001b[39m'\u001b[39m\u001b[39mpython\u001b[39m\u001b[39m'\u001b[39m)\n\u001b[1;32m---> <a href='file:///c%3A/Users/1408/AppData/Local/Programs/Python/Python310/lib/site-packages/LeXmo/LeXmo.py?line=32'>33</a>\u001b[0m emolex_words \u001b[39m=\u001b[39m emolex_df\u001b[39m.\u001b[39;49mpivot(index\u001b[39m=\u001b[39;49m\u001b[39m'\u001b[39;49m\u001b[39mword\u001b[39;49m\u001b[39m'\u001b[39;49m,\n\u001b[0;32m     <a href='file:///c%3A/Users/1408/AppData/Local/Programs/Python/Python310/lib/site-packages/LeXmo/LeXmo.py?line=33'>34</a>\u001b[0m                                columns\u001b[39m=\u001b[39;49m\u001b[39m'\u001b[39;49m\u001b[39memotion\u001b[39;49m\u001b[39m'\u001b[39;49m,\n\u001b[0;32m     <a href='file:///c%3A/Users/1408/AppData/Local/Programs/Python/Python310/lib/site-packages/LeXmo/LeXmo.py?line=34'>35</a>\u001b[0m                                values\u001b[39m=\u001b[39;49m\u001b[39m'\u001b[39;49m\u001b[39massociation\u001b[39;49m\u001b[39m'\u001b[39;49m)\u001b[39m.\u001b[39mreset_index()\n\u001b[0;32m     <a href='file:///c%3A/Users/1408/AppData/Local/Programs/Python/Python310/lib/site-packages/LeXmo/LeXmo.py?line=35'>36</a>\u001b[0m emolex_words\u001b[39m.\u001b[39mdrop(emolex_words\u001b[39m.\u001b[39mindex[\u001b[39m0\u001b[39m])\n\u001b[0;32m     <a href='file:///c%3A/Users/1408/AppData/Local/Programs/Python/Python310/lib/site-packages/LeXmo/LeXmo.py?line=37'>38</a>\u001b[0m emotions \u001b[39m=\u001b[39m emolex_words\u001b[39m.\u001b[39mcolumns\u001b[39m.\u001b[39mdrop(\u001b[39m'\u001b[39m\u001b[39mword\u001b[39m\u001b[39m'\u001b[39m)\n",
      "File \u001b[1;32mc:\\Users\\1408\\AppData\\Local\\Programs\\Python\\Python310\\lib\\site-packages\\pandas\\core\\frame.py:7876\u001b[0m, in \u001b[0;36mDataFrame.pivot\u001b[1;34m(self, index, columns, values)\u001b[0m\n\u001b[0;32m   <a href='file:///c%3A/Users/1408/AppData/Local/Programs/Python/Python310/lib/site-packages/pandas/core/frame.py?line=7870'>7871</a>\u001b[0m \u001b[39m@Substitution\u001b[39m(\u001b[39m\"\u001b[39m\u001b[39m\"\u001b[39m)\n\u001b[0;32m   <a href='file:///c%3A/Users/1408/AppData/Local/Programs/Python/Python310/lib/site-packages/pandas/core/frame.py?line=7871'>7872</a>\u001b[0m \u001b[39m@Appender\u001b[39m(_shared_docs[\u001b[39m\"\u001b[39m\u001b[39mpivot\u001b[39m\u001b[39m\"\u001b[39m])\n\u001b[0;32m   <a href='file:///c%3A/Users/1408/AppData/Local/Programs/Python/Python310/lib/site-packages/pandas/core/frame.py?line=7872'>7873</a>\u001b[0m \u001b[39mdef\u001b[39;00m \u001b[39mpivot\u001b[39m(\u001b[39mself\u001b[39m, index\u001b[39m=\u001b[39m\u001b[39mNone\u001b[39;00m, columns\u001b[39m=\u001b[39m\u001b[39mNone\u001b[39;00m, values\u001b[39m=\u001b[39m\u001b[39mNone\u001b[39;00m) \u001b[39m-\u001b[39m\u001b[39m>\u001b[39m DataFrame:\n\u001b[0;32m   <a href='file:///c%3A/Users/1408/AppData/Local/Programs/Python/Python310/lib/site-packages/pandas/core/frame.py?line=7873'>7874</a>\u001b[0m     \u001b[39mfrom\u001b[39;00m \u001b[39mpandas\u001b[39;00m\u001b[39m.\u001b[39;00m\u001b[39mcore\u001b[39;00m\u001b[39m.\u001b[39;00m\u001b[39mreshape\u001b[39;00m\u001b[39m.\u001b[39;00m\u001b[39mpivot\u001b[39;00m \u001b[39mimport\u001b[39;00m pivot\n\u001b[1;32m-> <a href='file:///c%3A/Users/1408/AppData/Local/Programs/Python/Python310/lib/site-packages/pandas/core/frame.py?line=7875'>7876</a>\u001b[0m     \u001b[39mreturn\u001b[39;00m pivot(\u001b[39mself\u001b[39;49m, index\u001b[39m=\u001b[39;49mindex, columns\u001b[39m=\u001b[39;49mcolumns, values\u001b[39m=\u001b[39;49mvalues)\n",
      "File \u001b[1;32mc:\\Users\\1408\\AppData\\Local\\Programs\\Python\\Python310\\lib\\site-packages\\pandas\\core\\reshape\\pivot.py:510\u001b[0m, in \u001b[0;36mpivot\u001b[1;34m(data, index, columns, values)\u001b[0m\n\u001b[0;32m    <a href='file:///c%3A/Users/1408/AppData/Local/Programs/Python/Python310/lib/site-packages/pandas/core/reshape/pivot.py?line=507'>508</a>\u001b[0m data_columns \u001b[39m=\u001b[39m [data[col] \u001b[39mfor\u001b[39;00m col \u001b[39min\u001b[39;00m columns_listlike]\n\u001b[0;32m    <a href='file:///c%3A/Users/1408/AppData/Local/Programs/Python/Python310/lib/site-packages/pandas/core/reshape/pivot.py?line=508'>509</a>\u001b[0m index_list\u001b[39m.\u001b[39mextend(data_columns)\n\u001b[1;32m--> <a href='file:///c%3A/Users/1408/AppData/Local/Programs/Python/Python310/lib/site-packages/pandas/core/reshape/pivot.py?line=509'>510</a>\u001b[0m multiindex \u001b[39m=\u001b[39m MultiIndex\u001b[39m.\u001b[39;49mfrom_arrays(index_list)\n\u001b[0;32m    <a href='file:///c%3A/Users/1408/AppData/Local/Programs/Python/Python310/lib/site-packages/pandas/core/reshape/pivot.py?line=511'>512</a>\u001b[0m \u001b[39mif\u001b[39;00m is_list_like(values) \u001b[39mand\u001b[39;00m \u001b[39mnot\u001b[39;00m \u001b[39misinstance\u001b[39m(values, \u001b[39mtuple\u001b[39m):\n\u001b[0;32m    <a href='file:///c%3A/Users/1408/AppData/Local/Programs/Python/Python310/lib/site-packages/pandas/core/reshape/pivot.py?line=512'>513</a>\u001b[0m     \u001b[39m# Exclude tuple because it is seen as a single column name\u001b[39;00m\n\u001b[0;32m    <a href='file:///c%3A/Users/1408/AppData/Local/Programs/Python/Python310/lib/site-packages/pandas/core/reshape/pivot.py?line=513'>514</a>\u001b[0m     values \u001b[39m=\u001b[39m cast(Sequence[Hashable], values)\n",
      "File \u001b[1;32mc:\\Users\\1408\\AppData\\Local\\Programs\\Python\\Python310\\lib\\site-packages\\pandas\\core\\indexes\\multi.py:489\u001b[0m, in \u001b[0;36mMultiIndex.from_arrays\u001b[1;34m(cls, arrays, sortorder, names)\u001b[0m\n\u001b[0;32m    <a href='file:///c%3A/Users/1408/AppData/Local/Programs/Python/Python310/lib/site-packages/pandas/core/indexes/multi.py?line=485'>486</a>\u001b[0m     \u001b[39mif\u001b[39;00m \u001b[39mlen\u001b[39m(arrays[i]) \u001b[39m!=\u001b[39m \u001b[39mlen\u001b[39m(arrays[i \u001b[39m-\u001b[39m \u001b[39m1\u001b[39m]):\n\u001b[0;32m    <a href='file:///c%3A/Users/1408/AppData/Local/Programs/Python/Python310/lib/site-packages/pandas/core/indexes/multi.py?line=486'>487</a>\u001b[0m         \u001b[39mraise\u001b[39;00m \u001b[39mValueError\u001b[39;00m(\u001b[39m\"\u001b[39m\u001b[39mall arrays must be same length\u001b[39m\u001b[39m\"\u001b[39m)\n\u001b[1;32m--> <a href='file:///c%3A/Users/1408/AppData/Local/Programs/Python/Python310/lib/site-packages/pandas/core/indexes/multi.py?line=488'>489</a>\u001b[0m codes, levels \u001b[39m=\u001b[39m factorize_from_iterables(arrays)\n\u001b[0;32m    <a href='file:///c%3A/Users/1408/AppData/Local/Programs/Python/Python310/lib/site-packages/pandas/core/indexes/multi.py?line=489'>490</a>\u001b[0m \u001b[39mif\u001b[39;00m names \u001b[39mis\u001b[39;00m lib\u001b[39m.\u001b[39mno_default:\n\u001b[0;32m    <a href='file:///c%3A/Users/1408/AppData/Local/Programs/Python/Python310/lib/site-packages/pandas/core/indexes/multi.py?line=490'>491</a>\u001b[0m     names \u001b[39m=\u001b[39m [\u001b[39mgetattr\u001b[39m(arr, \u001b[39m\"\u001b[39m\u001b[39mname\u001b[39m\u001b[39m\"\u001b[39m, \u001b[39mNone\u001b[39;00m) \u001b[39mfor\u001b[39;00m arr \u001b[39min\u001b[39;00m arrays]\n",
      "File \u001b[1;32mc:\\Users\\1408\\AppData\\Local\\Programs\\Python\\Python310\\lib\\site-packages\\pandas\\core\\arrays\\categorical.py:2881\u001b[0m, in \u001b[0;36mfactorize_from_iterables\u001b[1;34m(iterables)\u001b[0m\n\u001b[0;32m   <a href='file:///c%3A/Users/1408/AppData/Local/Programs/Python/Python310/lib/site-packages/pandas/core/arrays/categorical.py?line=2876'>2877</a>\u001b[0m \u001b[39mif\u001b[39;00m \u001b[39mlen\u001b[39m(iterables) \u001b[39m==\u001b[39m \u001b[39m0\u001b[39m:\n\u001b[0;32m   <a href='file:///c%3A/Users/1408/AppData/Local/Programs/Python/Python310/lib/site-packages/pandas/core/arrays/categorical.py?line=2877'>2878</a>\u001b[0m     \u001b[39m# For consistency, it should return two empty lists.\u001b[39;00m\n\u001b[0;32m   <a href='file:///c%3A/Users/1408/AppData/Local/Programs/Python/Python310/lib/site-packages/pandas/core/arrays/categorical.py?line=2878'>2879</a>\u001b[0m     \u001b[39mreturn\u001b[39;00m [], []\n\u001b[1;32m-> <a href='file:///c%3A/Users/1408/AppData/Local/Programs/Python/Python310/lib/site-packages/pandas/core/arrays/categorical.py?line=2880'>2881</a>\u001b[0m codes, categories \u001b[39m=\u001b[39m \u001b[39mzip\u001b[39;49m(\u001b[39m*\u001b[39;49m(factorize_from_iterable(it) \u001b[39mfor\u001b[39;49;00m it \u001b[39min\u001b[39;49;00m iterables))\n\u001b[0;32m   <a href='file:///c%3A/Users/1408/AppData/Local/Programs/Python/Python310/lib/site-packages/pandas/core/arrays/categorical.py?line=2881'>2882</a>\u001b[0m \u001b[39mreturn\u001b[39;00m \u001b[39mlist\u001b[39m(codes), \u001b[39mlist\u001b[39m(categories)\n",
      "File \u001b[1;32mc:\\Users\\1408\\AppData\\Local\\Programs\\Python\\Python310\\lib\\site-packages\\pandas\\core\\arrays\\categorical.py:2881\u001b[0m, in \u001b[0;36m<genexpr>\u001b[1;34m(.0)\u001b[0m\n\u001b[0;32m   <a href='file:///c%3A/Users/1408/AppData/Local/Programs/Python/Python310/lib/site-packages/pandas/core/arrays/categorical.py?line=2876'>2877</a>\u001b[0m \u001b[39mif\u001b[39;00m \u001b[39mlen\u001b[39m(iterables) \u001b[39m==\u001b[39m \u001b[39m0\u001b[39m:\n\u001b[0;32m   <a href='file:///c%3A/Users/1408/AppData/Local/Programs/Python/Python310/lib/site-packages/pandas/core/arrays/categorical.py?line=2877'>2878</a>\u001b[0m     \u001b[39m# For consistency, it should return two empty lists.\u001b[39;00m\n\u001b[0;32m   <a href='file:///c%3A/Users/1408/AppData/Local/Programs/Python/Python310/lib/site-packages/pandas/core/arrays/categorical.py?line=2878'>2879</a>\u001b[0m     \u001b[39mreturn\u001b[39;00m [], []\n\u001b[1;32m-> <a href='file:///c%3A/Users/1408/AppData/Local/Programs/Python/Python310/lib/site-packages/pandas/core/arrays/categorical.py?line=2880'>2881</a>\u001b[0m codes, categories \u001b[39m=\u001b[39m \u001b[39mzip\u001b[39m(\u001b[39m*\u001b[39m(factorize_from_iterable(it) \u001b[39mfor\u001b[39;00m it \u001b[39min\u001b[39;00m iterables))\n\u001b[0;32m   <a href='file:///c%3A/Users/1408/AppData/Local/Programs/Python/Python310/lib/site-packages/pandas/core/arrays/categorical.py?line=2881'>2882</a>\u001b[0m \u001b[39mreturn\u001b[39;00m \u001b[39mlist\u001b[39m(codes), \u001b[39mlist\u001b[39m(categories)\n",
      "File \u001b[1;32mc:\\Users\\1408\\AppData\\Local\\Programs\\Python\\Python310\\lib\\site-packages\\pandas\\core\\arrays\\categorical.py:2854\u001b[0m, in \u001b[0;36mfactorize_from_iterable\u001b[1;34m(values)\u001b[0m\n\u001b[0;32m   <a href='file:///c%3A/Users/1408/AppData/Local/Programs/Python/Python310/lib/site-packages/pandas/core/arrays/categorical.py?line=2848'>2849</a>\u001b[0m     codes \u001b[39m=\u001b[39m values\u001b[39m.\u001b[39mcodes\n\u001b[0;32m   <a href='file:///c%3A/Users/1408/AppData/Local/Programs/Python/Python310/lib/site-packages/pandas/core/arrays/categorical.py?line=2849'>2850</a>\u001b[0m \u001b[39melse\u001b[39;00m:\n\u001b[0;32m   <a href='file:///c%3A/Users/1408/AppData/Local/Programs/Python/Python310/lib/site-packages/pandas/core/arrays/categorical.py?line=2850'>2851</a>\u001b[0m     \u001b[39m# The value of ordered is irrelevant since we don't use cat as such,\u001b[39;00m\n\u001b[0;32m   <a href='file:///c%3A/Users/1408/AppData/Local/Programs/Python/Python310/lib/site-packages/pandas/core/arrays/categorical.py?line=2851'>2852</a>\u001b[0m     \u001b[39m# but only the resulting categories, the order of which is independent\u001b[39;00m\n\u001b[0;32m   <a href='file:///c%3A/Users/1408/AppData/Local/Programs/Python/Python310/lib/site-packages/pandas/core/arrays/categorical.py?line=2852'>2853</a>\u001b[0m     \u001b[39m# from ordered. Set ordered to False as default. See GH #15457\u001b[39;00m\n\u001b[1;32m-> <a href='file:///c%3A/Users/1408/AppData/Local/Programs/Python/Python310/lib/site-packages/pandas/core/arrays/categorical.py?line=2853'>2854</a>\u001b[0m     cat \u001b[39m=\u001b[39m Categorical(values, ordered\u001b[39m=\u001b[39;49m\u001b[39mFalse\u001b[39;49;00m)\n\u001b[0;32m   <a href='file:///c%3A/Users/1408/AppData/Local/Programs/Python/Python310/lib/site-packages/pandas/core/arrays/categorical.py?line=2854'>2855</a>\u001b[0m     categories \u001b[39m=\u001b[39m cat\u001b[39m.\u001b[39mcategories\n\u001b[0;32m   <a href='file:///c%3A/Users/1408/AppData/Local/Programs/Python/Python310/lib/site-packages/pandas/core/arrays/categorical.py?line=2855'>2856</a>\u001b[0m     codes \u001b[39m=\u001b[39m cat\u001b[39m.\u001b[39mcodes\n",
      "File \u001b[1;32mc:\\Users\\1408\\AppData\\Local\\Programs\\Python\\Python310\\lib\\site-packages\\pandas\\core\\arrays\\categorical.py:438\u001b[0m, in \u001b[0;36mCategorical.__init__\u001b[1;34m(self, values, categories, ordered, dtype, fastpath, copy)\u001b[0m\n\u001b[0;32m    <a href='file:///c%3A/Users/1408/AppData/Local/Programs/Python/Python310/lib/site-packages/pandas/core/arrays/categorical.py?line=435'>436</a>\u001b[0m \u001b[39mif\u001b[39;00m dtype\u001b[39m.\u001b[39mcategories \u001b[39mis\u001b[39;00m \u001b[39mNone\u001b[39;00m:\n\u001b[0;32m    <a href='file:///c%3A/Users/1408/AppData/Local/Programs/Python/Python310/lib/site-packages/pandas/core/arrays/categorical.py?line=436'>437</a>\u001b[0m     \u001b[39mtry\u001b[39;00m:\n\u001b[1;32m--> <a href='file:///c%3A/Users/1408/AppData/Local/Programs/Python/Python310/lib/site-packages/pandas/core/arrays/categorical.py?line=437'>438</a>\u001b[0m         codes, categories \u001b[39m=\u001b[39m factorize(values, sort\u001b[39m=\u001b[39;49m\u001b[39mTrue\u001b[39;49;00m)\n\u001b[0;32m    <a href='file:///c%3A/Users/1408/AppData/Local/Programs/Python/Python310/lib/site-packages/pandas/core/arrays/categorical.py?line=438'>439</a>\u001b[0m     \u001b[39mexcept\u001b[39;00m \u001b[39mTypeError\u001b[39;00m \u001b[39mas\u001b[39;00m err:\n\u001b[0;32m    <a href='file:///c%3A/Users/1408/AppData/Local/Programs/Python/Python310/lib/site-packages/pandas/core/arrays/categorical.py?line=439'>440</a>\u001b[0m         codes, categories \u001b[39m=\u001b[39m factorize(values, sort\u001b[39m=\u001b[39m\u001b[39mFalse\u001b[39;00m)\n",
      "File \u001b[1;32mc:\\Users\\1408\\AppData\\Local\\Programs\\Python\\Python310\\lib\\site-packages\\pandas\\core\\algorithms.py:768\u001b[0m, in \u001b[0;36mfactorize\u001b[1;34m(values, sort, na_sentinel, size_hint)\u001b[0m\n\u001b[0;32m    <a href='file:///c%3A/Users/1408/AppData/Local/Programs/Python/Python310/lib/site-packages/pandas/core/algorithms.py?line=762'>763</a>\u001b[0m     codes, uniques \u001b[39m=\u001b[39m factorize_array(\n\u001b[0;32m    <a href='file:///c%3A/Users/1408/AppData/Local/Programs/Python/Python310/lib/site-packages/pandas/core/algorithms.py?line=763'>764</a>\u001b[0m         values, na_sentinel\u001b[39m=\u001b[39mna_sentinel, size_hint\u001b[39m=\u001b[39msize_hint, na_value\u001b[39m=\u001b[39mna_value\n\u001b[0;32m    <a href='file:///c%3A/Users/1408/AppData/Local/Programs/Python/Python310/lib/site-packages/pandas/core/algorithms.py?line=764'>765</a>\u001b[0m     )\n\u001b[0;32m    <a href='file:///c%3A/Users/1408/AppData/Local/Programs/Python/Python310/lib/site-packages/pandas/core/algorithms.py?line=766'>767</a>\u001b[0m \u001b[39mif\u001b[39;00m sort \u001b[39mand\u001b[39;00m \u001b[39mlen\u001b[39m(uniques) \u001b[39m>\u001b[39m \u001b[39m0\u001b[39m:\n\u001b[1;32m--> <a href='file:///c%3A/Users/1408/AppData/Local/Programs/Python/Python310/lib/site-packages/pandas/core/algorithms.py?line=767'>768</a>\u001b[0m     uniques, codes \u001b[39m=\u001b[39m safe_sort(\n\u001b[0;32m    <a href='file:///c%3A/Users/1408/AppData/Local/Programs/Python/Python310/lib/site-packages/pandas/core/algorithms.py?line=768'>769</a>\u001b[0m         uniques, codes, na_sentinel\u001b[39m=\u001b[39;49mna_sentinel, assume_unique\u001b[39m=\u001b[39;49m\u001b[39mTrue\u001b[39;49;00m, verify\u001b[39m=\u001b[39;49m\u001b[39mFalse\u001b[39;49;00m\n\u001b[0;32m    <a href='file:///c%3A/Users/1408/AppData/Local/Programs/Python/Python310/lib/site-packages/pandas/core/algorithms.py?line=769'>770</a>\u001b[0m     )\n\u001b[0;32m    <a href='file:///c%3A/Users/1408/AppData/Local/Programs/Python/Python310/lib/site-packages/pandas/core/algorithms.py?line=771'>772</a>\u001b[0m code_is_na \u001b[39m=\u001b[39m codes \u001b[39m==\u001b[39m na_sentinel\n\u001b[0;32m    <a href='file:///c%3A/Users/1408/AppData/Local/Programs/Python/Python310/lib/site-packages/pandas/core/algorithms.py?line=772'>773</a>\u001b[0m \u001b[39mif\u001b[39;00m \u001b[39mnot\u001b[39;00m dropna \u001b[39mand\u001b[39;00m code_is_na\u001b[39m.\u001b[39many():\n\u001b[0;32m    <a href='file:///c%3A/Users/1408/AppData/Local/Programs/Python/Python310/lib/site-packages/pandas/core/algorithms.py?line=773'>774</a>\u001b[0m     \u001b[39m# na_value is set based on the dtype of uniques, and compat set to False is\u001b[39;00m\n\u001b[0;32m    <a href='file:///c%3A/Users/1408/AppData/Local/Programs/Python/Python310/lib/site-packages/pandas/core/algorithms.py?line=774'>775</a>\u001b[0m     \u001b[39m# because we do not want na_value to be 0 for integers\u001b[39;00m\n",
      "File \u001b[1;32mc:\\Users\\1408\\AppData\\Local\\Programs\\Python\\Python310\\lib\\site-packages\\pandas\\core\\algorithms.py:1770\u001b[0m, in \u001b[0;36msafe_sort\u001b[1;34m(values, codes, na_sentinel, assume_unique, verify)\u001b[0m\n\u001b[0;32m   <a href='file:///c%3A/Users/1408/AppData/Local/Programs/Python/Python310/lib/site-packages/pandas/core/algorithms.py?line=1765'>1766</a>\u001b[0m     sorter \u001b[39m=\u001b[39m ensure_platform_int(t\u001b[39m.\u001b[39mlookup(ordered))\n\u001b[0;32m   <a href='file:///c%3A/Users/1408/AppData/Local/Programs/Python/Python310/lib/site-packages/pandas/core/algorithms.py?line=1767'>1768</a>\u001b[0m \u001b[39mif\u001b[39;00m na_sentinel \u001b[39m==\u001b[39m \u001b[39m-\u001b[39m\u001b[39m1\u001b[39m:\n\u001b[0;32m   <a href='file:///c%3A/Users/1408/AppData/Local/Programs/Python/Python310/lib/site-packages/pandas/core/algorithms.py?line=1768'>1769</a>\u001b[0m     \u001b[39m# take_nd is faster, but only works for na_sentinels of -1\u001b[39;00m\n\u001b[1;32m-> <a href='file:///c%3A/Users/1408/AppData/Local/Programs/Python/Python310/lib/site-packages/pandas/core/algorithms.py?line=1769'>1770</a>\u001b[0m     order2 \u001b[39m=\u001b[39m sorter\u001b[39m.\u001b[39;49margsort()\n\u001b[0;32m   <a href='file:///c%3A/Users/1408/AppData/Local/Programs/Python/Python310/lib/site-packages/pandas/core/algorithms.py?line=1770'>1771</a>\u001b[0m     new_codes \u001b[39m=\u001b[39m take_nd(order2, codes, fill_value\u001b[39m=\u001b[39m\u001b[39m-\u001b[39m\u001b[39m1\u001b[39m)\n\u001b[0;32m   <a href='file:///c%3A/Users/1408/AppData/Local/Programs/Python/Python310/lib/site-packages/pandas/core/algorithms.py?line=1771'>1772</a>\u001b[0m     \u001b[39mif\u001b[39;00m verify:\n",
      "\u001b[1;31mKeyboardInterrupt\u001b[0m: "
     ]
    }
   ],
   "source": [
    "nltk.download('punkt')\n",
    "from nltk import word_tokenize\n",
    "from nltk.stem.snowball import SnowballStemmer\n",
    "import requests\n",
    "\n",
    "sentiments_dict = {'anger': 0, 'anticipation': 0, 'disgust': 0, 'fear': 0, 'joy': 0, \n",
    "'negative': 0, 'positive': 0, 'sadness': 0, 'surprise': 0, 'trust': 0}\n",
    "from LeXmo import LeXmo\n",
    "\n",
    "for submission in submissions:\n",
    "    emo = LeXmo.LeXmo(submission)\n",
    "    for key in emo.keys():\n",
    "        if key != 'text':\n",
    "            sentiments_dict[key] = sentiments_dict[key] + emo[key]"
   ]
  },
  {
   "cell_type": "code",
   "execution_count": 8,
   "metadata": {},
   "outputs": [
    {
     "name": "stdout",
     "output_type": "stream",
     "text": [
      "dict_values([542.7053912744427, 456.5624894265963, 127.90561095984688, 730.4122255388575, 322.25092508328254, 934.2182681626273, 958.5754438595446, 369.88096425341337, 251.39400015698735, 630.0836380969026])\n"
     ]
    },
    {
     "data": {
      "image/png": "[encoded data removed]",
      "text/plain": [
       "<Figure size 432x288 with 1 Axes>"
      ]
     },
     "metadata": {
      "needs_background": "light"
     },
     "output_type": "display_data"
    }
   ],
   "source": [
    "keys = sentiments_dict.keys()\n",
    "values = sentiments_dict.values()\n",
    "print(values)\n",
    "\n",
    "plt.bar(keys, values)\n",
    "plt.title(f'r/{subreddit} sentiments')\n",
    "plt.show()\n",
    "\n",
    "import pickle\n",
    "\n",
    "with open(f'{subreddit}_sentiments.json', 'wb') as fp:\n",
    "    pickle.dump(dict, fp)"
   ]
  },
  {
   "cell_type": "code",
   "execution_count": null,
   "metadata": {},
   "outputs": [],
   "source": [
    "from textblob import TextBlob\n",
    "\n"
   ]
  }
 ],
 "metadata": {
  "interpreter": {
   "hash": "b552e9e2291ee47d97a6f9068176d4d60c8957403441ee997b7a7bce0cd7c764"
  },
  "kernelspec": {
   "display_name": "Python 3.10.4 64-bit",
   "language": "python",
   "name": "python3"
  },
  "language_info": {
   "codemirror_mode": {
    "name": "ipython",
    "version": 3
   },
   "file_extension": ".py",
   "mimetype": "text/x-python",
   "name": "python",
   "nbconvert_exporter": "python",
   "pygments_lexer": "ipython3",
   "version": "3.10.4"
  },
  "orig_nbformat": 4
 },
 "nbformat": 4,
 "nbformat_minor": 2
}
