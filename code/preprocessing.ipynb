{
 "cells": [
  {
   "cell_type": "code",
   "execution_count": 1,
   "metadata": {},
   "outputs": [
    {
     "data": {
      "text/html": [
       "<div>\n",
       "<style scoped>\n",
       "    .dataframe tbody tr th:only-of-type {\n",
       "        vertical-align: middle;\n",
       "    }\n",
       "\n",
       "    .dataframe tbody tr th {\n",
       "        vertical-align: top;\n",
       "    }\n",
       "\n",
       "    .dataframe thead th {\n",
       "        text-align: right;\n",
       "    }\n",
       "</style>\n",
       "<table border=\"1\" class=\"dataframe\">\n",
       "  <thead>\n",
       "    <tr style=\"text-align: right;\">\n",
       "      <th></th>\n",
       "      <th>author</th>\n",
       "      <th>title</th>\n",
       "      <th>num_comments</th>\n",
       "    </tr>\n",
       "  </thead>\n",
       "  <tbody>\n",
       "    <tr>\n",
       "      <th>0</th>\n",
       "      <td>ChildrensHealthDef</td>\n",
       "      <td>New York Post Attacks RFK, Jr. as Sales of ‘Th...</td>\n",
       "      <td>1</td>\n",
       "    </tr>\n",
       "    <tr>\n",
       "      <th>1</th>\n",
       "      <td>Lotso_Packetloss</td>\n",
       "      <td>What good are NATO sanctions against Russia wh...</td>\n",
       "      <td>1</td>\n",
       "    </tr>\n",
       "    <tr>\n",
       "      <th>2</th>\n",
       "      <td>mr_clemFandango</td>\n",
       "      <td>Ukraine Crisis - What You're Not Being Told 20...</td>\n",
       "      <td>1</td>\n",
       "    </tr>\n",
       "    <tr>\n",
       "      <th>3</th>\n",
       "      <td>lh7884</td>\n",
       "      <td>Bill Gates: 'If every country does what Austra...</td>\n",
       "      <td>1</td>\n",
       "    </tr>\n",
       "    <tr>\n",
       "      <th>4</th>\n",
       "      <td>One2alwaysplay</td>\n",
       "      <td>What's really going on??</td>\n",
       "      <td>1</td>\n",
       "    </tr>\n",
       "  </tbody>\n",
       "</table>\n",
       "</div>"
      ],
      "text/plain": [
       "               author                                              title  \\\n",
       "0  ChildrensHealthDef  New York Post Attacks RFK, Jr. as Sales of ‘Th...   \n",
       "1    Lotso_Packetloss  What good are NATO sanctions against Russia wh...   \n",
       "2     mr_clemFandango  Ukraine Crisis - What You're Not Being Told 20...   \n",
       "3              lh7884  Bill Gates: 'If every country does what Austra...   \n",
       "4      One2alwaysplay                           What's really going on??   \n",
       "\n",
       "   num_comments  \n",
       "0             1  \n",
       "1             1  \n",
       "2             1  \n",
       "3             1  \n",
       "4             1  "
      ]
     },
     "execution_count": 1,
     "metadata": {},
     "output_type": "execute_result"
    }
   ],
   "source": [
    "import nltk\n",
    "#nltk.download('stopwords')\n",
    "#nltk.download('wordnet')\n",
    "#nltk.download('omw-1.4')\n",
    "#nltk.download('averaged_perceptron_tagger')\n",
    "import matplotlib.pyplot as plt\n",
    "import pandas as pd\n",
    "import re\n",
    "#from wordcloud import WordCloud\n",
    "import contractions\n",
    "import collections\n",
    "import seaborn as sns\n",
    "import numpy as np\n",
    "from vaderSentiment.vaderSentiment import SentimentIntensityAnalyzer\n",
    "from collections import Counter\n",
    "\n",
    "\n",
    "subreddit = 'conspiracy'\n",
    "type_of_content = 'submissions'\n",
    "column = 'title'\n",
    "filename = f'./data/{subreddit}_{type_of_content}_filtered.csv'\n",
    "stop = nltk.corpus.stopwords.words('english')\n",
    "tokenizer = nltk.RegexpTokenizer(r\"\\w+\")\n",
    "lemmatizer = nltk.WordNetLemmatizer()\n",
    "\n",
    "dataframe = pd.read_csv(filename, compression='gzip')\n",
    "dataframe.head()"
   ]
  },
  {
   "cell_type": "code",
   "execution_count": 4,
   "metadata": {},
   "outputs": [],
   "source": [
    "comments = dataframe[column]\n",
    "\n",
    "preprocessed_comments = []\n",
    "\n",
    "for comment in comments:\n",
    "    comment = str(comment)\n",
    "    comment = comment.lower()\n",
    "    comment = re.sub(r\"(@\\[A-Za-z0-9]+)|(\\w+:\\/\\/\\S+)|^&gt;\",\"\",comment)\n",
    "    comment = \" \".join(word for word in comment.split() if word not in stop)\n",
    "    comment = \" \".join(contractions.fix(word) for word in comment.split())\n",
    "    comment = \" \".join(word for word in comment.split() if word not in stop)\n",
    "\n",
    "    comment = re.sub(r\"[^0-9A-Za-z \\t]\",\"\",comment)\n",
    "    comment = tokenizer.tokenize(comment)\n",
    "    comment = [lemmatizer.lemmatize(word, pos=\"v\") for word in comment]\n",
    "    preprocessed_comments.append(comment)\n"
   ]
  },
  {
   "cell_type": "markdown",
   "metadata": {},
   "source": [
    "* https://github.com/britt-allen/classifying_reddit_posts/blob/master/notebooks/project_3_data_cleaning_and_eda.ipynb\n",
    "* monkeylearn.com/blog/text_cleaning\n"
   ]
  },
  {
   "cell_type": "code",
   "execution_count": 13,
   "metadata": {},
   "outputs": [
    {
     "data": {
      "image/png": "[encoded data removed]",
      "text/plain": [
       "<Figure size 576x576 with 1 Axes>"
      ]
     },
     "metadata": {
      "needs_background": "light"
     },
     "output_type": "display_data"
    }
   ],
   "source": [
    "wordcloud_text = ''\n",
    "frequency = []\n",
    "textfile = open(f'./data/{subreddit}_{type_of_content}_wordlist.txt', \"w\")\n",
    "\n",
    "for comment in preprocessed_comments:\n",
    "    pos = nltk.pos_tag(comment)\n",
    "    for word in pos:\n",
    "        if word[1] in {'NN', 'NNS', 'NNP', 'NNPS', 'JJ', 'JJR', 'JJS'}:\n",
    "            wordcloud_text = wordcloud_text + word[0] + ' '\n",
    "            frequency.append(word[0])\n",
    "            textfile.write(word[0] + \"\\n\")\n",
    "\n",
    "textfile.close()\n",
    "\n",
    "'''wc = WordCloud(max_words=100, background_color='white').generate(wordcloud_text)\n",
    "plt.figure(figsize = (14, 14))\n",
    "plt.axis('off')\n",
    "plt.imshow(wc)\n",
    "plt.savefig(f'./images/{subreddit}_wordcloud.png')'''\n",
    "\n",
    "word_frequency = collections.Counter(frequency)\n",
    "word_frequency.most_common(15)\n",
    "word_frequency = pd.DataFrame(word_frequency.most_common(15), columns=['words', 'count'])\n",
    "\n",
    "fig, ax = plt.subplots(figsize=(8, 8))\n",
    "word_frequency.sort_values(by='count').plot.barh(x='words', y='count', ax=ax, color='thistle')\n",
    "plt.title('Word Frequencies')\n",
    "plt.savefig(f'./images/{subreddit}_wordfrequency.png')"
   ]
  },
  {
   "cell_type": "code",
   "execution_count": 7,
   "metadata": {},
   "outputs": [
    {
     "ename": "NameError",
     "evalue": "name 'Counter' is not defined",
     "output_type": "error",
     "traceback": [
      "\u001b[1;31m---------------------------------------------------------------------------\u001b[0m",
      "\u001b[1;31mNameError\u001b[0m                                 Traceback (most recent call last)",
      "\u001b[1;32mc:\\Users\\isoma\\nlp_on_conspiracy_theories\\code\\preprocessing.ipynb Cell 5'\u001b[0m in \u001b[0;36m<cell line: 12>\u001b[1;34m()\u001b[0m\n\u001b[0;32m      <a href='vscode-notebook-cell:/c%3A/Users/isoma/nlp_on_conspiracy_theories/code/preprocessing.ipynb#ch0000004?line=8'>9</a>\u001b[0m     \u001b[39melse\u001b[39;00m :\n\u001b[0;32m     <a href='vscode-notebook-cell:/c%3A/Users/isoma/nlp_on_conspiracy_theories/code/preprocessing.ipynb#ch0000004?line=9'>10</a>\u001b[0m         sentiments\u001b[39m.\u001b[39mappend(\u001b[39m'\u001b[39m\u001b[39mneutral\u001b[39m\u001b[39m'\u001b[39m)\n\u001b[1;32m---> <a href='vscode-notebook-cell:/c%3A/Users/isoma/nlp_on_conspiracy_theories/code/preprocessing.ipynb#ch0000004?line=11'>12</a>\u001b[0m a \u001b[39m=\u001b[39m \u001b[39mdict\u001b[39m(Counter(sentiments))\n",
      "\u001b[1;31mNameError\u001b[0m: name 'Counter' is not defined"
     ]
    }
   ],
   "source": [
    "sentiment_analyzer = SentimentIntensityAnalyzer()\n",
    "sentiments = []\n",
    "for comment in comments:\n",
    "    sentiment = sentiment_analyzer.polarity_scores(comment)\n",
    "    if sentiment['compound'] >= 0.05:\n",
    "        sentiments.append('positive')\n",
    "    elif sentiment['compound'] <= -0.05:\n",
    "        sentiments.append('negative')\n",
    "    else :\n",
    "        sentiments.append('neutral')\n",
    "\n",
    "a = dict(Counter(sentiments))\n",
    "\n",
    " \n",
    "\n"
   ]
  }
 ],
 "metadata": {
  "interpreter": {
   "hash": "e7370f93d1d0cde622a1f8e1c04877d8463912d04d973331ad4851f04de6915a"
  },
  "kernelspec": {
   "display_name": "Python 3.10.2 64-bit",
   "language": "python",
   "name": "python3"
  },
  "language_info": {
   "codemirror_mode": {
    "name": "ipython",
    "version": 3
   },
   "file_extension": ".py",
   "mimetype": "text/x-python",
   "name": "python",
   "nbconvert_exporter": "python",
   "pygments_lexer": "ipython3",
   "version": "3.10.4"
  },
  "orig_nbformat": 4
 },
 "nbformat": 4,
 "nbformat_minor": 2
}
