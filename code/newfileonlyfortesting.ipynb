{
 "cells": [
  {
   "cell_type": "code",
   "execution_count": 17,
   "metadata": {},
   "outputs": [],
   "source": [
    "import nltk\n",
    "import matplotlib.pyplot as plt\n",
    "import pandas as pd\n",
    "from vaderSentiment.vaderSentiment import SentimentIntensityAnalyzer\n",
    "from collections import Counter\n",
    "\n",
    "\n",
    "subreddit = 'UkrainianConflict'\n",
    "stop = nltk.corpus.stopwords.words('english')"
   ]
  },
  {
   "cell_type": "code",
   "execution_count": 18,
   "metadata": {},
   "outputs": [],
   "source": [
    "filename = f'./data/{subreddit}_filtered.csv'\n",
    "dataframe = pd.read_csv(filename)"
   ]
  },
  {
   "cell_type": "code",
   "execution_count": 19,
   "metadata": {},
   "outputs": [
    {
     "name": "stdout",
     "output_type": "stream",
     "text": [
      "0       ukraine conflict world reaction sanction refug...\n",
      "1       riamatotalpieceofshit ban me for share a pictu...\n",
      "2       live update macron vow no weakness in reply to...\n",
      "3       putin claim he be denazify ukraine and yet ukr...\n",
      "4       in a rare act of public dissent against the wa...\n",
      "                              ...                        \n",
      "7859    a small shipment of lithuanian military aid ha...\n",
      "7860    russian broadcast hack to play ukraine song on...\n",
      "7861                         what be happen in kievdelete\n",
      "7862    white house and eu nation announce expulsion o...\n",
      "7863    i compile tip by online military user on how v...\n",
      "Name: wholetext, Length: 7864, dtype: object\n"
     ]
    },
    {
     "name": "stderr",
     "output_type": "stream",
     "text": [
      "C:\\Users\\1408\\AppData\\Local\\Temp\\ipykernel_12896\\3858455142.py:3: SettingWithCopyWarning: \n",
      "A value is trying to be set on a copy of a slice from a DataFrame.\n",
      "Try using .loc[row_indexer,col_indexer] = value instead\n",
      "\n",
      "See the caveats in the documentation: https://pandas.pydata.org/pandas-docs/stable/user_guide/indexing.html#returning-a-view-versus-a-copy\n",
      "  dataframe.loc[dataframe['self_text'].isin({ \"remove\", \"delete\", \"nan\"})]['self_text'] = \"\"\n"
     ]
    }
   ],
   "source": [
    "dataframe['title'] = dataframe['title'].apply(str) \n",
    "dataframe['self_text'] = dataframe['self_text'].apply(str) \n",
    "dataframe.loc[dataframe['self_text'].isin({ \"remove\", \"delete\", \"nan\"})]['self_text'] = \"\"\n",
    "dataframe['wholetext'] = dataframe['title'] + dataframe['self_text']\n",
    "submissions = dataframe.wholetext\n",
    "print(dataframe.wholetext)"
   ]
  },
  {
   "cell_type": "code",
   "execution_count": 20,
   "metadata": {},
   "outputs": [
    {
     "data": {
      "image/png": "[encoded data removed]",
      "text/plain": [
       "<Figure size 432x288 with 1 Axes>"
      ]
     },
     "metadata": {
      "needs_background": "light"
     },
     "output_type": "display_data"
    },
    {
     "data": {
      "image/png": "[encoded data removed]",
      "text/plain": [
       "<Figure size 432x288 with 1 Axes>"
      ]
     },
     "metadata": {
      "needs_background": "light"
     },
     "output_type": "display_data"
    },
    {
     "name": "stdout",
     "output_type": "stream",
     "text": [
      "sentiments mean 0.022394534995773076\n",
      "subjectivity mean 0.19333173285361344\n"
     ]
    }
   ],
   "source": [
    "from textblob import TextBlob\n",
    "sentiments_mean = 0\n",
    "subjectivity_mean = 0\n",
    "sentiments = []\n",
    "subjectivities = []\n",
    "\n",
    "for submission in submissions:\n",
    "    sentiment = TextBlob(submission).polarity\n",
    "    sentiments_mean = sentiments_mean + sentiment\n",
    "    subjectivity = TextBlob(submission).subjectivity\n",
    "    subjectivity_mean = subjectivity_mean + subjectivity\n",
    "    if sentiment > 0:\n",
    "        sentiments.append('positive')\n",
    "    elif sentiment < 0:\n",
    "        sentiments.append('negative')\n",
    "    else :\n",
    "        sentiments.append('neutral')\n",
    "    if subjectivity < 0.35:\n",
    "        subjectivities.append('subjective')\n",
    "    elif subjectivity > 0.65:\n",
    "        subjectivities.append('objective')\n",
    "    else:\n",
    "        subjectivities.append('neutral')\n",
    "\n",
    "plotSentiments(sentiments)\n",
    "plotSentiments(subjectivities)\n",
    "\n",
    "print(f\"sentiments mean {sentiments_mean/len(submissions)}\")\n",
    "print(f\"subjectivity mean {subjectivity_mean/len(submissions)}\")\n"
   ]
  },
  {
   "cell_type": "code",
   "execution_count": 16,
   "metadata": {},
   "outputs": [],
   "source": [
    "def plotSentiments(sentiments):\n",
    "    a = dict(Counter(sentiments))\n",
    "\n",
    "    keys = sorted(list(a.keys()))\n",
    "    values = []\n",
    "\n",
    "    for key in keys:\n",
    "        values.append(a[key])\n",
    "\n",
    "    plt.bar(range(len(a)), values, tick_label=keys)\n",
    "    plt.title(f'r/{subreddit}')\n",
    "    plt.show()"
   ]
  }
 ],
 "metadata": {
  "interpreter": {
   "hash": "b552e9e2291ee47d97a6f9068176d4d60c8957403441ee997b7a7bce0cd7c764"
  },
  "kernelspec": {
   "display_name": "Python 3.10.4 64-bit",
   "language": "python",
   "name": "python3"
  },
  "language_info": {
   "codemirror_mode": {
    "name": "ipython",
    "version": 3
   },
   "file_extension": ".py",
   "mimetype": "text/x-python",
   "name": "python",
   "nbconvert_exporter": "python",
   "pygments_lexer": "ipython3",
   "version": "3.10.4"
  },
  "orig_nbformat": 4
 },
 "nbformat": 4,
 "nbformat_minor": 2
}
