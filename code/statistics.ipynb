{
 "cells": [
  {
   "cell_type": "code",
   "execution_count": 19,
   "metadata": {},
   "outputs": [],
   "source": [
    "import pandas as pd\n",
    "import matplotlib.pyplot as plt\n",
    "import textstat\n",
    "import seaborn as sns\n",
    "from datetime import datetime\n",
    "\n",
    "ukraine_file = './data/datascraping/ukraine_raw_redditapi_data.csv'\n",
    "consp_file = './data/datascraping/conspiracy_raw_redditapi_data.csv'\n",
    "consp_file_filtered = './data/preprocessed/conspiracy_preprocessed_filtered.csv'\n"
   ]
  },
  {
   "cell_type": "code",
   "execution_count": 6,
   "metadata": {},
   "outputs": [
    {
     "data": {
      "text/html": [
       "<div>\n",
       "<style scoped>\n",
       "    .dataframe tbody tr th:only-of-type {\n",
       "        vertical-align: middle;\n",
       "    }\n",
       "\n",
       "    .dataframe tbody tr th {\n",
       "        vertical-align: top;\n",
       "    }\n",
       "\n",
       "    .dataframe thead th {\n",
       "        text-align: right;\n",
       "    }\n",
       "</style>\n",
       "<table border=\"1\" class=\"dataframe\">\n",
       "  <thead>\n",
       "    <tr style=\"text-align: right;\">\n",
       "      <th></th>\n",
       "      <th>num_comments</th>\n",
       "      <th>score</th>\n",
       "      <th>time</th>\n",
       "      <th>ups</th>\n",
       "      <th>downs</th>\n",
       "      <th>upvoteratio</th>\n",
       "      <th>category</th>\n",
       "    </tr>\n",
       "  </thead>\n",
       "  <tbody>\n",
       "    <tr>\n",
       "      <th>count</th>\n",
       "      <td>36737.000000</td>\n",
       "      <td>36737.000000</td>\n",
       "      <td>3.673700e+04</td>\n",
       "      <td>36737.000000</td>\n",
       "      <td>36737.0</td>\n",
       "      <td>36737.000000</td>\n",
       "      <td>0.0</td>\n",
       "    </tr>\n",
       "    <tr>\n",
       "      <th>mean</th>\n",
       "      <td>16.489044</td>\n",
       "      <td>286.725808</td>\n",
       "      <td>1.645959e+09</td>\n",
       "      <td>286.725808</td>\n",
       "      <td>0.0</td>\n",
       "      <td>0.873719</td>\n",
       "      <td>NaN</td>\n",
       "    </tr>\n",
       "    <tr>\n",
       "      <th>std</th>\n",
       "      <td>76.302036</td>\n",
       "      <td>2414.245709</td>\n",
       "      <td>1.586767e+05</td>\n",
       "      <td>2414.245709</td>\n",
       "      <td>0.0</td>\n",
       "      <td>0.210420</td>\n",
       "      <td>NaN</td>\n",
       "    </tr>\n",
       "    <tr>\n",
       "      <th>min</th>\n",
       "      <td>0.000000</td>\n",
       "      <td>0.000000</td>\n",
       "      <td>1.645571e+09</td>\n",
       "      <td>0.000000</td>\n",
       "      <td>0.0</td>\n",
       "      <td>0.010000</td>\n",
       "      <td>NaN</td>\n",
       "    </tr>\n",
       "    <tr>\n",
       "      <th>25%</th>\n",
       "      <td>0.000000</td>\n",
       "      <td>1.000000</td>\n",
       "      <td>1.645834e+09</td>\n",
       "      <td>1.000000</td>\n",
       "      <td>0.0</td>\n",
       "      <td>0.850000</td>\n",
       "      <td>NaN</td>\n",
       "    </tr>\n",
       "    <tr>\n",
       "      <th>50%</th>\n",
       "      <td>3.000000</td>\n",
       "      <td>7.000000</td>\n",
       "      <td>1.645956e+09</td>\n",
       "      <td>7.000000</td>\n",
       "      <td>0.0</td>\n",
       "      <td>0.980000</td>\n",
       "      <td>NaN</td>\n",
       "    </tr>\n",
       "    <tr>\n",
       "      <th>75%</th>\n",
       "      <td>12.000000</td>\n",
       "      <td>74.000000</td>\n",
       "      <td>1.646081e+09</td>\n",
       "      <td>74.000000</td>\n",
       "      <td>0.0</td>\n",
       "      <td>1.000000</td>\n",
       "      <td>NaN</td>\n",
       "    </tr>\n",
       "    <tr>\n",
       "      <th>max</th>\n",
       "      <td>4102.000000</td>\n",
       "      <td>195709.000000</td>\n",
       "      <td>1.646262e+09</td>\n",
       "      <td>195709.000000</td>\n",
       "      <td>0.0</td>\n",
       "      <td>1.000000</td>\n",
       "      <td>NaN</td>\n",
       "    </tr>\n",
       "  </tbody>\n",
       "</table>\n",
       "</div>"
      ],
      "text/plain": [
       "       num_comments          score          time            ups    downs  \\\n",
       "count  36737.000000   36737.000000  3.673700e+04   36737.000000  36737.0   \n",
       "mean      16.489044     286.725808  1.645959e+09     286.725808      0.0   \n",
       "std       76.302036    2414.245709  1.586767e+05    2414.245709      0.0   \n",
       "min        0.000000       0.000000  1.645571e+09       0.000000      0.0   \n",
       "25%        0.000000       1.000000  1.645834e+09       1.000000      0.0   \n",
       "50%        3.000000       7.000000  1.645956e+09       7.000000      0.0   \n",
       "75%       12.000000      74.000000  1.646081e+09      74.000000      0.0   \n",
       "max     4102.000000  195709.000000  1.646262e+09  195709.000000      0.0   \n",
       "\n",
       "        upvoteratio  category  \n",
       "count  36737.000000       0.0  \n",
       "mean       0.873719       NaN  \n",
       "std        0.210420       NaN  \n",
       "min        0.010000       NaN  \n",
       "25%        0.850000       NaN  \n",
       "50%        0.980000       NaN  \n",
       "75%        1.000000       NaN  \n",
       "max        1.000000       NaN  "
      ]
     },
     "execution_count": 6,
     "metadata": {},
     "output_type": "execute_result"
    }
   ],
   "source": [
    "ukraine_df = pd.read_csv(ukraine_file)\n",
    "ukraine_authors = ukraine_df.groupby('author', as_index=False).size()\n",
    "ukraine_df.describe()"
   ]
  },
  {
   "cell_type": "code",
   "execution_count": 7,
   "metadata": {},
   "outputs": [
    {
     "data": {
      "text/html": [
       "<div>\n",
       "<style scoped>\n",
       "    .dataframe tbody tr th:only-of-type {\n",
       "        vertical-align: middle;\n",
       "    }\n",
       "\n",
       "    .dataframe tbody tr th {\n",
       "        vertical-align: top;\n",
       "    }\n",
       "\n",
       "    .dataframe thead th {\n",
       "        text-align: right;\n",
       "    }\n",
       "</style>\n",
       "<table border=\"1\" class=\"dataframe\">\n",
       "  <thead>\n",
       "    <tr style=\"text-align: right;\">\n",
       "      <th></th>\n",
       "      <th>num_comments</th>\n",
       "      <th>score</th>\n",
       "      <th>time</th>\n",
       "      <th>ups</th>\n",
       "      <th>downs</th>\n",
       "      <th>upvoteratio</th>\n",
       "      <th>category</th>\n",
       "    </tr>\n",
       "  </thead>\n",
       "  <tbody>\n",
       "    <tr>\n",
       "      <th>count</th>\n",
       "      <td>7806.000000</td>\n",
       "      <td>7806.000000</td>\n",
       "      <td>7.806000e+03</td>\n",
       "      <td>7806.000000</td>\n",
       "      <td>7806.0</td>\n",
       "      <td>7806.000000</td>\n",
       "      <td>0.0</td>\n",
       "    </tr>\n",
       "    <tr>\n",
       "      <th>mean</th>\n",
       "      <td>26.708814</td>\n",
       "      <td>70.492826</td>\n",
       "      <td>1.645926e+09</td>\n",
       "      <td>70.492826</td>\n",
       "      <td>0.0</td>\n",
       "      <td>0.716621</td>\n",
       "      <td>NaN</td>\n",
       "    </tr>\n",
       "    <tr>\n",
       "      <th>std</th>\n",
       "      <td>87.729443</td>\n",
       "      <td>351.515486</td>\n",
       "      <td>1.923815e+05</td>\n",
       "      <td>351.515486</td>\n",
       "      <td>0.0</td>\n",
       "      <td>0.200616</td>\n",
       "      <td>NaN</td>\n",
       "    </tr>\n",
       "    <tr>\n",
       "      <th>min</th>\n",
       "      <td>0.000000</td>\n",
       "      <td>0.000000</td>\n",
       "      <td>1.645571e+09</td>\n",
       "      <td>0.000000</td>\n",
       "      <td>0.0</td>\n",
       "      <td>0.070000</td>\n",
       "      <td>NaN</td>\n",
       "    </tr>\n",
       "    <tr>\n",
       "      <th>25%</th>\n",
       "      <td>3.000000</td>\n",
       "      <td>1.000000</td>\n",
       "      <td>1.645759e+09</td>\n",
       "      <td>1.000000</td>\n",
       "      <td>0.0</td>\n",
       "      <td>0.580000</td>\n",
       "      <td>NaN</td>\n",
       "    </tr>\n",
       "    <tr>\n",
       "      <th>50%</th>\n",
       "      <td>9.000000</td>\n",
       "      <td>5.000000</td>\n",
       "      <td>1.645922e+09</td>\n",
       "      <td>5.000000</td>\n",
       "      <td>0.0</td>\n",
       "      <td>0.740000</td>\n",
       "      <td>NaN</td>\n",
       "    </tr>\n",
       "    <tr>\n",
       "      <th>75%</th>\n",
       "      <td>19.000000</td>\n",
       "      <td>19.750000</td>\n",
       "      <td>1.646086e+09</td>\n",
       "      <td>19.750000</td>\n",
       "      <td>0.0</td>\n",
       "      <td>0.870000</td>\n",
       "      <td>NaN</td>\n",
       "    </tr>\n",
       "    <tr>\n",
       "      <th>max</th>\n",
       "      <td>2281.000000</td>\n",
       "      <td>11921.000000</td>\n",
       "      <td>1.646262e+09</td>\n",
       "      <td>11921.000000</td>\n",
       "      <td>0.0</td>\n",
       "      <td>1.000000</td>\n",
       "      <td>NaN</td>\n",
       "    </tr>\n",
       "  </tbody>\n",
       "</table>\n",
       "</div>"
      ],
      "text/plain": [
       "       num_comments         score          time           ups   downs  \\\n",
       "count   7806.000000   7806.000000  7.806000e+03   7806.000000  7806.0   \n",
       "mean      26.708814     70.492826  1.645926e+09     70.492826     0.0   \n",
       "std       87.729443    351.515486  1.923815e+05    351.515486     0.0   \n",
       "min        0.000000      0.000000  1.645571e+09      0.000000     0.0   \n",
       "25%        3.000000      1.000000  1.645759e+09      1.000000     0.0   \n",
       "50%        9.000000      5.000000  1.645922e+09      5.000000     0.0   \n",
       "75%       19.000000     19.750000  1.646086e+09     19.750000     0.0   \n",
       "max     2281.000000  11921.000000  1.646262e+09  11921.000000     0.0   \n",
       "\n",
       "       upvoteratio  category  \n",
       "count  7806.000000       0.0  \n",
       "mean      0.716621       NaN  \n",
       "std       0.200616       NaN  \n",
       "min       0.070000       NaN  \n",
       "25%       0.580000       NaN  \n",
       "50%       0.740000       NaN  \n",
       "75%       0.870000       NaN  \n",
       "max       1.000000       NaN  "
      ]
     },
     "execution_count": 7,
     "metadata": {},
     "output_type": "execute_result"
    }
   ],
   "source": [
    "consp_df = pd.read_csv(consp_file)\n",
    "consp_authors = consp_df.groupby('author', as_index=False).size()\n",
    "consp_df.describe()"
   ]
  },
  {
   "cell_type": "code",
   "execution_count": 27,
   "metadata": {},
   "outputs": [
    {
     "data": {
      "text/html": [
       "<div>\n",
       "<style scoped>\n",
       "    .dataframe tbody tr th:only-of-type {\n",
       "        vertical-align: middle;\n",
       "    }\n",
       "\n",
       "    .dataframe tbody tr th {\n",
       "        vertical-align: top;\n",
       "    }\n",
       "\n",
       "    .dataframe thead th {\n",
       "        text-align: right;\n",
       "    }\n",
       "</style>\n",
       "<table border=\"1\" class=\"dataframe\">\n",
       "  <thead>\n",
       "    <tr style=\"text-align: right;\">\n",
       "      <th></th>\n",
       "      <th>num_comments</th>\n",
       "      <th>score</th>\n",
       "      <th>time</th>\n",
       "      <th>ups</th>\n",
       "      <th>downs</th>\n",
       "      <th>upvoteratio</th>\n",
       "      <th>category</th>\n",
       "    </tr>\n",
       "  </thead>\n",
       "  <tbody>\n",
       "    <tr>\n",
       "      <th>count</th>\n",
       "      <td>3616.000000</td>\n",
       "      <td>3616.000000</td>\n",
       "      <td>3.616000e+03</td>\n",
       "      <td>3616.000000</td>\n",
       "      <td>3616.0</td>\n",
       "      <td>3616.000000</td>\n",
       "      <td>0.0</td>\n",
       "    </tr>\n",
       "    <tr>\n",
       "      <th>mean</th>\n",
       "      <td>28.432799</td>\n",
       "      <td>54.813606</td>\n",
       "      <td>1.645940e+09</td>\n",
       "      <td>54.813606</td>\n",
       "      <td>0.0</td>\n",
       "      <td>0.667403</td>\n",
       "      <td>NaN</td>\n",
       "    </tr>\n",
       "    <tr>\n",
       "      <th>std</th>\n",
       "      <td>92.946097</td>\n",
       "      <td>293.502927</td>\n",
       "      <td>1.759169e+05</td>\n",
       "      <td>293.502927</td>\n",
       "      <td>0.0</td>\n",
       "      <td>0.196555</td>\n",
       "      <td>NaN</td>\n",
       "    </tr>\n",
       "    <tr>\n",
       "      <th>min</th>\n",
       "      <td>0.000000</td>\n",
       "      <td>0.000000</td>\n",
       "      <td>1.645572e+09</td>\n",
       "      <td>0.000000</td>\n",
       "      <td>0.0</td>\n",
       "      <td>0.090000</td>\n",
       "      <td>NaN</td>\n",
       "    </tr>\n",
       "    <tr>\n",
       "      <th>25%</th>\n",
       "      <td>4.000000</td>\n",
       "      <td>1.000000</td>\n",
       "      <td>1.645793e+09</td>\n",
       "      <td>1.000000</td>\n",
       "      <td>0.0</td>\n",
       "      <td>0.530000</td>\n",
       "      <td>NaN</td>\n",
       "    </tr>\n",
       "    <tr>\n",
       "      <th>50%</th>\n",
       "      <td>10.000000</td>\n",
       "      <td>4.000000</td>\n",
       "      <td>1.645934e+09</td>\n",
       "      <td>4.000000</td>\n",
       "      <td>0.0</td>\n",
       "      <td>0.670000</td>\n",
       "      <td>NaN</td>\n",
       "    </tr>\n",
       "    <tr>\n",
       "      <th>75%</th>\n",
       "      <td>21.000000</td>\n",
       "      <td>16.000000</td>\n",
       "      <td>1.646084e+09</td>\n",
       "      <td>16.000000</td>\n",
       "      <td>0.0</td>\n",
       "      <td>0.800000</td>\n",
       "      <td>NaN</td>\n",
       "    </tr>\n",
       "    <tr>\n",
       "      <th>max</th>\n",
       "      <td>2281.000000</td>\n",
       "      <td>7682.000000</td>\n",
       "      <td>1.646262e+09</td>\n",
       "      <td>7682.000000</td>\n",
       "      <td>0.0</td>\n",
       "      <td>1.000000</td>\n",
       "      <td>NaN</td>\n",
       "    </tr>\n",
       "  </tbody>\n",
       "</table>\n",
       "</div>"
      ],
      "text/plain": [
       "       num_comments        score          time          ups   downs  \\\n",
       "count   3616.000000  3616.000000  3.616000e+03  3616.000000  3616.0   \n",
       "mean      28.432799    54.813606  1.645940e+09    54.813606     0.0   \n",
       "std       92.946097   293.502927  1.759169e+05   293.502927     0.0   \n",
       "min        0.000000     0.000000  1.645572e+09     0.000000     0.0   \n",
       "25%        4.000000     1.000000  1.645793e+09     1.000000     0.0   \n",
       "50%       10.000000     4.000000  1.645934e+09     4.000000     0.0   \n",
       "75%       21.000000    16.000000  1.646084e+09    16.000000     0.0   \n",
       "max     2281.000000  7682.000000  1.646262e+09  7682.000000     0.0   \n",
       "\n",
       "       upvoteratio  category  \n",
       "count  3616.000000       0.0  \n",
       "mean      0.667403       NaN  \n",
       "std       0.196555       NaN  \n",
       "min       0.090000       NaN  \n",
       "25%       0.530000       NaN  \n",
       "50%       0.670000       NaN  \n",
       "75%       0.800000       NaN  \n",
       "max       1.000000       NaN  "
      ]
     },
     "execution_count": 27,
     "metadata": {},
     "output_type": "execute_result"
    }
   ],
   "source": [
    "consp_df_filtered = pd.read_csv(consp_file_filtered)\n",
    "filtered_ids = consp_df_filtered['id']\n",
    "\n",
    "consp_df_filtered = consp_df[consp_df['id'].isin(filtered_ids)]\n",
    "consp_df_filtered.describe()"
   ]
  },
  {
   "cell_type": "code",
   "execution_count": 39,
   "metadata": {},
   "outputs": [
    {
     "name": "stdout",
     "output_type": "stream",
     "text": [
      "(35838, 12)\n"
     ]
    },
    {
     "name": "stderr",
     "output_type": "stream",
     "text": [
      "C:\\Users\\1408\\AppData\\Local\\Temp\\ipykernel_12296\\3063250660.py:7: UserWarning: Boolean Series key will be reindexed to match DataFrame index.\n",
      "  consp_df_filt_ups = consp_df_filtered.drop(consp_df_filtered[consp_df['ups'] > 2000].index)\n"
     ]
    },
    {
     "data": {
      "image/png": "[encoded data removed]",
      "text/plain": [
       "<Figure size 1008x360 with 3 Axes>"
      ]
     },
     "metadata": {
      "needs_background": "light"
     },
     "output_type": "display_data"
    }
   ],
   "source": [
    "#https://github.com/benjamin-awd/Subreddit-Classification-with-NLP/blob/main/2_Data_Cleaning_EDA.ipynb\n",
    "\n",
    "consp_df_ups = consp_df.drop(consp_df[consp_df['ups'] > 2000].index)\n",
    "\n",
    "ukraine_df_ups = ukraine_df.drop(ukraine_df[ukraine_df['ups'] > 2000].index)\n",
    "print(ukraine_df_ups.shape)\n",
    "consp_df_filt_ups = consp_df_filtered.drop(consp_df_filtered[consp_df['ups'] > 2000].index)\n",
    "\n",
    "\n",
    "fig, ax = plt.subplots(1, 3, figsize=(14,5), sharey=True)\n",
    "ax = ax.ravel()\n",
    "g_consp = sns.histplot(data=consp_df_ups, x='ups', ax = ax[0], bins=20)\n",
    "mean_consp = consp_df['ups'].mean()\n",
    "g_consp.set_title(f'r/conspiracy (Mean: {round(mean_consp)} upvotes)')\n",
    "ax[0].axvline(mean_consp, ls='--', color='black')\n",
    "g_ukraine = sns.histplot(data=ukraine_df_ups, x='ups', ax = ax[1], bins=20, color='darkorange')\n",
    "mean_ukraine = ukraine_df['ups'].mean()\n",
    "g_ukraine.set_title(f'r/ukraine (Mean: {round(mean_ukraine)} upvotes)')\n",
    "ax[1].axvline(mean_ukraine, ls='--', color='black')\n",
    "g_consp_filt = sns.histplot(data=consp_df_filt_ups, x='ups', ax = ax[2], bins=20)\n",
    "mean_consp_filt = consp_df_filtered['ups'].mean()\n",
    "g_consp_filt.set_title(f'r/conspiracy filtered (Mean: {round(mean_consp_filt)} upvotes)')\n",
    "ax[2].axvline(mean_consp_filt, ls='--', color='black')\n",
    "plt.suptitle('Upvotes', fontsize=20)\n",
    "plt.tight_layout()"
   ]
  },
  {
   "cell_type": "code",
   "execution_count": 45,
   "metadata": {},
   "outputs": [
    {
     "data": {
      "image/png": "[encoded data removed]",
      "text/plain": [
       "<Figure size 1008x360 with 3 Axes>"
      ]
     },
     "metadata": {
      "needs_background": "light"
     },
     "output_type": "display_data"
    }
   ],
   "source": [
    "fig, ax = plt.subplots(1, 3, figsize=(14,5), sharey=True)\n",
    "ax = ax.ravel()\n",
    "\n",
    "mean_consp = consp_df['upvoteratio'].mean()\n",
    "g_consp = sns.histplot(data=consp_df, x='upvoteratio', ax = ax[0], bins=25)\n",
    "g_consp.set_title(f'r/conspiracy (Mean: {(mean_consp):.2f})')\n",
    "ax[0].axvline(mean_consp, ls='--', color='black')\n",
    "mean_ukraine = ukraine_df['upvoteratio'].mean()\n",
    "g_ukraine = sns.histplot(data=ukraine_df, x='upvoteratio', ax = ax[1], bins=25, color='darkorange')\n",
    "g_ukraine.set_title(f'r/ukraine (Mean: {(mean_ukraine):.2f})')\n",
    "ax[1].axvline(mean_ukraine, ls='--', color='black')\n",
    "\n",
    "mean_consp_filt = consp_df_filtered['upvoteratio'].mean()\n",
    "g_consp_filt = sns.histplot(data=consp_df_filtered, x='upvoteratio', ax = ax[2], bins=25)\n",
    "g_consp_filt.set_title(f'r/conspiracy (Mean: {(mean_consp_filt):.2f})')\n",
    "ax[2].axvline(mean_consp_filt, ls='--', color='black')\n",
    "\n",
    "plt.suptitle('Upvote Ratio', fontsize=20)\n",
    "plt.tight_layout()"
   ]
  },
  {
   "cell_type": "markdown",
   "metadata": {},
   "source": [
    "Metadata about whole set"
   ]
  },
  {
   "cell_type": "code",
   "execution_count": 7,
   "metadata": {},
   "outputs": [
    {
     "name": "stdout",
     "output_type": "stream",
     "text": [
      "0.31% of comments were deleted\n"
     ]
    },
    {
     "data": {
      "text/html": [
       "<div>\n",
       "<style scoped>\n",
       "    .dataframe tbody tr th:only-of-type {\n",
       "        vertical-align: middle;\n",
       "    }\n",
       "\n",
       "    .dataframe tbody tr th {\n",
       "        vertical-align: top;\n",
       "    }\n",
       "\n",
       "    .dataframe thead th {\n",
       "        text-align: right;\n",
       "    }\n",
       "</style>\n",
       "<table border=\"1\" class=\"dataframe\">\n",
       "  <thead>\n",
       "    <tr style=\"text-align: right;\">\n",
       "      <th></th>\n",
       "      <th>value</th>\n",
       "    </tr>\n",
       "  </thead>\n",
       "  <tbody>\n",
       "    <tr>\n",
       "      <th>total num of submissions</th>\n",
       "      <td>36738</td>\n",
       "    </tr>\n",
       "    <tr>\n",
       "      <th>deleted submissions</th>\n",
       "      <td>11262</td>\n",
       "    </tr>\n",
       "  </tbody>\n",
       "</table>\n",
       "</div>"
      ],
      "text/plain": [
       "                          value\n",
       "total num of submissions  36738\n",
       "deleted submissions       11262"
      ]
     },
     "execution_count": 7,
     "metadata": {},
     "output_type": "execute_result"
    }
   ],
   "source": [
    "metadata = pd.DataFrame(columns=['value'])\n",
    "metadata.loc['total num of submissions'] = pd.Series({'value':len(dataframe)})\n",
    "metadata.loc['deleted submissions'] = pd.Series({'value':len(dataframe.loc[pd.isna(dataframe['author'])])})\n",
    "#metadata.loc['deleted submissions'] = pd.Series({'value':len(dataframe.loc[dataframe['self_text'].isin({ \"[removed]\", \"[deleted]\"})])})\n",
    "print('{0:.2f}% of comments were deleted'.format(len(dataframe.loc[pd.isna(dataframe['author'])])/len(dataframe)))\n",
    "metadata\n",
    "\n"
   ]
  },
  {
   "cell_type": "code",
   "execution_count": 8,
   "metadata": {},
   "outputs": [
    {
     "name": "stderr",
     "output_type": "stream",
     "text": [
      "C:\\Users\\1408\\AppData\\Local\\Temp\\ipykernel_12588\\3607886345.py:5: UserWarning: FixedFormatter should only be used together with FixedLocator\n",
      "  ax.set_xticklabels(time.index.strftime('%m-%d'), rotation=40, ha='right')\n"
     ]
    },
    {
     "data": {
      "image/png": "[encoded data removed]",
      "text/plain": [
       "<Figure size 432x288 with 1 Axes>"
      ]
     },
     "metadata": {
      "needs_background": "light"
     },
     "output_type": "display_data"
    }
   ],
   "source": [
    "dataframe['date'] = dataframe['time'].apply(datetime.fromtimestamp)\n",
    "time = dataframe.groupby(pd.Grouper(key='date', axis=0, freq='D')).size()\n",
    "#plot = plt.plot(time.index, time.values)\n",
    "ax = sns.lineplot(x=time.index, y=time.values)\n",
    "ax.set_xticklabels(time.index.strftime('%m-%d'), rotation=40, ha='right')\n",
    "ax.set(xlabel='date in MMDD 2022', ylabel='# submissions', title=f'submissions r/{SUBREDDIT}')\n",
    "ax.figure.savefig(f'./images/{SUBREDDIT}_date', bbox_inches='tight')"
   ]
  },
  {
   "cell_type": "markdown",
   "metadata": {},
   "source": [
    "Metadata about authors"
   ]
  },
  {
   "cell_type": "code",
   "execution_count": 9,
   "metadata": {},
   "outputs": [
    {
     "data": {
      "text/html": [
       "<div>\n",
       "<style scoped>\n",
       "    .dataframe tbody tr th:only-of-type {\n",
       "        vertical-align: middle;\n",
       "    }\n",
       "\n",
       "    .dataframe tbody tr th {\n",
       "        vertical-align: top;\n",
       "    }\n",
       "\n",
       "    .dataframe thead th {\n",
       "        text-align: right;\n",
       "    }\n",
       "</style>\n",
       "<table border=\"1\" class=\"dataframe\">\n",
       "  <thead>\n",
       "    <tr style=\"text-align: right;\">\n",
       "      <th></th>\n",
       "      <th>value</th>\n",
       "    </tr>\n",
       "  </thead>\n",
       "  <tbody>\n",
       "    <tr>\n",
       "      <th>total num of authors</th>\n",
       "      <td>15128</td>\n",
       "    </tr>\n",
       "    <tr>\n",
       "      <th>avg num of submissions</th>\n",
       "      <td>1.68</td>\n",
       "    </tr>\n",
       "    <tr>\n",
       "      <th>median num of submissions</th>\n",
       "      <td>1.0</td>\n",
       "    </tr>\n",
       "  </tbody>\n",
       "</table>\n",
       "</div>"
      ],
      "text/plain": [
       "                           value\n",
       "total num of authors       15128\n",
       "avg num of submissions      1.68\n",
       "median num of submissions    1.0"
      ]
     },
     "execution_count": 9,
     "metadata": {},
     "output_type": "execute_result"
    }
   ],
   "source": [
    "metadata = pd.DataFrame(columns=['value'])\n",
    "metadata.loc['total num of authors'] = pd.Series({'value':len(authors)})\n",
    "metadata.loc['avg num of submissions'] = pd.Series({'value':'{:.2f}'.format(authors['size'].mean())})\n",
    "metadata.loc['median num of submissions'] = pd.Series({'value':authors['size'].median()})\n",
    "metadata\n"
   ]
  },
  {
   "cell_type": "code",
   "execution_count": 10,
   "metadata": {},
   "outputs": [
    {
     "data": {
      "image/png": "[encoded data removed]",
      "text/plain": [
       "<Figure size 432x288 with 1 Axes>"
      ]
     },
     "metadata": {
      "needs_background": "light"
     },
     "output_type": "display_data"
    }
   ],
   "source": [
    "top_authors = authors.nlargest(10, 'size')\n",
    "ax = sns.barplot(x='author', y='size', data=top_authors)\n",
    "ax.set_xticklabels(ax.get_xticklabels(), rotation=40, ha='right')\n",
    "ax.set(xlabel='author name', ylabel='number of submissions', title=f'Top Autors of r/{SUBREDDIT}')\n",
    "ax.figure.savefig(f'./images/{SUBREDDIT}_authors', bbox_inches='tight')\n"
   ]
  },
  {
   "cell_type": "code",
   "execution_count": 11,
   "metadata": {},
   "outputs": [
    {
     "data": {
      "image/png": "[encoded data removed]",
      "text/plain": [
       "<Figure size 576x432 with 1 Axes>"
      ]
     },
     "metadata": {
      "needs_background": "light"
     },
     "output_type": "display_data"
    }
   ],
   "source": [
    "plt.figure(figsize=(8,6))\n",
    "ax = sns.boxplot(x=authors['size'])\n",
    "ax.set(xlabel='number of submissions', title=f'Submissions per author in r/{SUBREDDIT}')\n",
    "plt.savefig(f'./images/{SUBREDDIT}_submissions.png')\n",
    "plt.show()"
   ]
  },
  {
   "cell_type": "markdown",
   "metadata": {},
   "source": [
    "Metadata about single submissions"
   ]
  },
  {
   "cell_type": "code",
   "execution_count": 12,
   "metadata": {},
   "outputs": [
    {
     "data": {
      "text/html": [
       "<div>\n",
       "<style scoped>\n",
       "    .dataframe tbody tr th:only-of-type {\n",
       "        vertical-align: middle;\n",
       "    }\n",
       "\n",
       "    .dataframe tbody tr th {\n",
       "        vertical-align: top;\n",
       "    }\n",
       "\n",
       "    .dataframe thead th {\n",
       "        text-align: right;\n",
       "    }\n",
       "</style>\n",
       "<table border=\"1\" class=\"dataframe\">\n",
       "  <thead>\n",
       "    <tr style=\"text-align: right;\">\n",
       "      <th></th>\n",
       "      <th>value</th>\n",
       "    </tr>\n",
       "  </thead>\n",
       "  <tbody>\n",
       "    <tr>\n",
       "      <th>flesch reading ease score</th>\n",
       "      <td>70.63</td>\n",
       "    </tr>\n",
       "    <tr>\n",
       "      <th>average word count</th>\n",
       "      <td>11.62</td>\n",
       "    </tr>\n",
       "    <tr>\n",
       "      <th>average num of comments per sub</th>\n",
       "      <td>16.50</td>\n",
       "    </tr>\n",
       "  </tbody>\n",
       "</table>\n",
       "</div>"
      ],
      "text/plain": [
       "                                 value\n",
       "flesch reading ease score        70.63\n",
       "average word count               11.62\n",
       "average num of comments per sub  16.50"
      ]
     },
     "execution_count": 12,
     "metadata": {},
     "output_type": "execute_result"
    }
   ],
   "source": [
    "metadata = pd.DataFrame(columns=['value'])\n",
    "metadata.loc['flesch reading ease score'] = pd.Series({'value':\n",
    "        '{:.2f}'.format(sum(textstat.flesch_reading_ease(str(submission)) for submission in dataframe['title']) / len(dataframe))})\n",
    "metadata.loc['average word count'] = pd.Series({'value':\n",
    "        '{:.2f}'.format(sum(textstat.lexicon_count(str(submission)) for submission in dataframe['title']) / len(dataframe))})\n",
    "metadata.loc['average num of comments per sub'] = pd.Series({'value':'{:.2f}'.format(dataframe['num_comments'].mean())})\n",
    "metadata"
   ]
  },
  {
   "cell_type": "code",
   "execution_count": 14,
   "metadata": {},
   "outputs": [
    {
     "data": {
      "image/png": "[encoded data removed]",
      "text/plain": [
       "<Figure size 576x432 with 1 Axes>"
      ]
     },
     "metadata": {
      "needs_background": "light"
     },
     "output_type": "display_data"
    }
   ],
   "source": [
    "plt.figure(figsize=(8,6))\n",
    "comment_lengths = [textstat.lexicon_count(str(comment)) for comment in dataframe['title']]\n",
    "ax = sns.boxplot(x=comment_lengths)\n",
    "ax.set(xlabel='word count submission', title=f'words per submission in r/{SUBREDDIT}')\n",
    "plt.savefig(f'./images/{SUBREDDIT}_words_per_submissions.png')\n",
    "plt.show()"
   ]
  },
  {
   "cell_type": "code",
   "execution_count": 15,
   "metadata": {},
   "outputs": [
    {
     "data": {
      "image/png": "[encoded data removed]",
      "text/plain": [
       "<Figure size 576x432 with 1 Axes>"
      ]
     },
     "metadata": {
      "needs_background": "light"
     },
     "output_type": "display_data"
    }
   ],
   "source": [
    "plt.figure(figsize=(8,6))\n",
    "comment_num = dataframe['num_comments']\n",
    "ax = sns.boxplot(x=comment_num)\n",
    "ax.set(xlabel='number of comments', title=f'number of comments per submission in r/{SUBREDDIT}')\n",
    "plt.savefig(f'./images/{SUBREDDIT}_num_comments.png')\n",
    "plt.show()"
   ]
  }
 ],
 "metadata": {
  "interpreter": {
   "hash": "b552e9e2291ee47d97a6f9068176d4d60c8957403441ee997b7a7bce0cd7c764"
  },
  "kernelspec": {
   "display_name": "Python 3.10.4 64-bit",
   "language": "python",
   "name": "python3"
  },
  "language_info": {
   "codemirror_mode": {
    "name": "ipython",
    "version": 3
   },
   "file_extension": ".py",
   "mimetype": "text/x-python",
   "name": "python",
   "nbconvert_exporter": "python",
   "pygments_lexer": "ipython3",
   "version": "3.10.4"
  },
  "orig_nbformat": 4
 },
 "nbformat": 4,
 "nbformat_minor": 2
}
