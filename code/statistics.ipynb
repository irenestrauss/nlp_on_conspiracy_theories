{
 "cells": [
  {
   "cell_type": "code",
   "execution_count": 52,
   "metadata": {},
   "outputs": [],
   "source": [
    "import pandas as pd\n",
    "import matplotlib.pyplot as plt\n",
    "\n",
    "\n",
    "subreddit = \"conspiracy\"\n",
    "filename = f'{subreddit}_comments.csv'\n"
   ]
  },
  {
   "cell_type": "code",
   "execution_count": 4,
   "metadata": {},
   "outputs": [
    {
     "name": "stdout",
     "output_type": "stream",
     "text": [
      "comments in dataset: 10000\n"
     ]
    }
   ],
   "source": [
    "dataframe = pd.read_csv(filename, compression='gzip')\n",
    "print(f\"comments in dataset: {len(dataframe)}\")\n",
    "\n"
   ]
  },
  {
   "cell_type": "code",
   "execution_count": 61,
   "metadata": {},
   "outputs": [
    {
     "data": {
      "text/plain": [
       "<bound method NDFrame.head of                 author  size\n",
       "0     --Dash----Dash--     4\n",
       "1             -1----1-     1\n",
       "2            -Captain-     1\n",
       "3                 -K9V     7\n",
       "4     -Serenity---Now-     2\n",
       "...                ...   ...\n",
       "3834       ziplock9000     2\n",
       "3835            zolloh     1\n",
       "3836        zorbiburst     1\n",
       "3837  zurebommenkoning     3\n",
       "3838          zzz619er     2\n",
       "\n",
       "[3839 rows x 2 columns]>"
      ]
     },
     "execution_count": 61,
     "metadata": {},
     "output_type": "execute_result"
    },
    {
     "data": {
      "image/png": "[encoded data removed]",
      "text/plain": [
       "<Figure size 432x288 with 1 Axes>"
      ]
     },
     "metadata": {
      "needs_background": "light"
     },
     "output_type": "display_data"
    }
   ],
   "source": [
    "authors = dataframe.groupby('author', as_index=False).size()\n",
    "top_authors = authors.nlargest(10, 'size')\n",
    "top_authors['size'].plot.bar()\n",
    "authors.head"
   ]
  },
  {
   "cell_type": "code",
   "execution_count": 70,
   "metadata": {},
   "outputs": [
    {
     "name": "stdout",
     "output_type": "stream",
     "text": [
      "total number of authors: 3837\n",
      "average number of comments per author: 2.415689340630701\n",
      "median: 1.0\n",
      "mode: 0    1\n",
      "Name: size, dtype: int64\n"
     ]
    }
   ],
   "source": [
    "authors_without_bot = authors.drop(authors.index[(authors['author'] == '[deleted]')], axis=0, inplace=False)\n",
    "authors_without_bot = authors_without_bot.drop(authors_without_bot.index[(authors_without_bot['author'] == 'AutoModerator')], axis=0, inplace=False)\n",
    "print(f\"total number of authors: {len(authors_without_bot)}\")\n",
    "print(f\"average number of comments per author: {authors_without_bot['size'].mean()}\")\n",
    "print(f\"median: {authors_without_bot['size'].median()}\")\n",
    "#print(f\"mode: {authors_without_bot['size'].mode()}\")"
   ]
  },
  {
   "cell_type": "markdown",
   "metadata": {},
   "source": [
    "number of deleted comments"
   ]
  },
  {
   "cell_type": "code",
   "execution_count": null,
   "metadata": {},
   "outputs": [],
   "source": []
  }
 ],
 "metadata": {
  "interpreter": {
   "hash": "e7370f93d1d0cde622a1f8e1c04877d8463912d04d973331ad4851f04de6915a"
  },
  "kernelspec": {
   "display_name": "Python 3.10.2 64-bit",
   "language": "python",
   "name": "python3"
  },
  "language_info": {
   "codemirror_mode": {
    "name": "ipython",
    "version": 3
   },
   "file_extension": ".py",
   "mimetype": "text/x-python",
   "name": "python",
   "nbconvert_exporter": "python",
   "pygments_lexer": "ipython3",
   "version": "3.10.2"
  },
  "orig_nbformat": 4
 },
 "nbformat": 4,
 "nbformat_minor": 2
}
