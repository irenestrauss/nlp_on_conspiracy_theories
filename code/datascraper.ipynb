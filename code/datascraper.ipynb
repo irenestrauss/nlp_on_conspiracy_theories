{
 "cells": [
  {
   "cell_type": "markdown",
   "metadata": {},
   "source": [
    "Use Pushshift API to retrieve submissions around the attack of Ukraine on 24th Feb 2022"
   ]
  },
  {
   "cell_type": "code",
   "execution_count": 5,
   "metadata": {},
   "outputs": [],
   "source": [
    "import pandas as pd\n",
    "from pmaw import PushshiftAPI\n",
    "import datetime as dt\n",
    "\n",
    "pushshift_api = PushshiftAPI()\n",
    "BEFORE = int(dt.datetime(2022,3,3,0,0).timestamp())\n",
    "AFTER = int(dt.datetime(2022,2,23,0,0).timestamp())\n",
    "SUBREDDIT = 'ukraine'"
   ]
  },
  {
   "cell_type": "markdown",
   "metadata": {},
   "source": [
    "Retrieve ids of submissions"
   ]
  },
  {
   "cell_type": "code",
   "execution_count": 6,
   "metadata": {},
   "outputs": [
    {
     "name": "stdout",
     "output_type": "stream",
     "text": [
      "Retrieved 36737 submissions for r/ukraine\n",
      "0        sznsyx\n",
      "1        sznsyp\n",
      "2        sznpgl\n",
      "3        sznlb8\n",
      "4        sznh7n\n",
      "          ...  \n",
      "36732    t4glry\n",
      "36733    t4glm4\n",
      "36734    t4glbj\n",
      "36735    t4gkq3\n",
      "36736    t4gkir\n",
      "Name: id, Length: 36737, dtype: object\n"
     ]
    }
   ],
   "source": [
    "submissions = pushshift_api.search_submissions(subreddit=SUBREDDIT, before=BEFORE, after=AFTER)\n",
    "print(f'Retrieved {len(submissions)} submissions for r/{SUBREDDIT}')\n",
    "\n",
    "dataframe = pd.DataFrame(submissions)\n",
    "ids = dataframe['id']\n",
    "print(ids)\n",
    "dataframe.to_csv(f'./data/{SUBREDDIT}_raw_pushshift_data.csv', header=True, index=False, columns=list(dataframe.axes[1]), encoding='utf-8')\n",
    "full_ids = [f't3_{i}' for i in ids.values]"
   ]
  },
  {
   "cell_type": "markdown",
   "metadata": {},
   "source": [
    "Use Reddit API to get up-to-date features of submission"
   ]
  },
  {
   "cell_type": "code",
   "execution_count": 3,
   "metadata": {},
   "outputs": [],
   "source": [
    "import praw\n",
    "from praw.models import MoreComments\n",
    "\n",
    "\n",
    "reddit = praw.Reddit(\n",
    "    client_id=\"0NzTHSp2xzo-nVmaqJQoDw\",\n",
    "    client_secret=\"Vig4045y6hJubi-VDnskBPiKXoPtwQ\",\n",
    "    user_agent=\"nlp_app\"\n",
    ")"
   ]
  },
  {
   "cell_type": "markdown",
   "metadata": {},
   "source": [
    "save most important features to csv file"
   ]
  },
  {
   "cell_type": "code",
   "execution_count": 9,
   "metadata": {},
   "outputs": [
    {
     "name": "stderr",
     "output_type": "stream",
     "text": [
      "C:\\Users\\1408\\AppData\\Local\\Temp\\ipykernel_19100\\2721435062.py:4: DeprecationWarning: Positional arguments for 'Reddit.info' will no longer be supported in PRAW 8.\n",
      "Call this function with 'fullnames' as a keyword argument.\n",
      "  sub = reddit.info(full_ids)\n"
     ]
    }
   ],
   "source": [
    "dataframe = pd.DataFrame(columns=['id', 'author', 'title', 'self_text', 'num_comments',\n",
    "'score', 'time', 'ups', 'downs', 'upvoteratio', 'category', 'full_link',])\n",
    "\n",
    "sub = reddit.info(full_ids)\n",
    "for s in sub:\n",
    "    dataframe = pd.concat([dataframe, pd.DataFrame.from_records([{'id': s.id, 'author': s.author,\n",
    "    'title': s.title, 'self_text': s.selftext, 'num_comments': s.num_comments, 'score': s.score, \n",
    "    'time': s.created_utc, 'ups': s.ups, 'downs': s.downs, 'upvoteratio': s.upvote_ratio, \n",
    "    'category': s.category, 'full_link': s.url}])], ignore_index=True)\n",
    "\n",
    "dataframe.to_csv(f'./data/{SUBREDDIT}_raw_redditapi_data.csv', header=True, index=False, \n",
    "columns=list(dataframe.axes[1]), encoding='utf-8')"
   ]
  }
 ],
 "metadata": {
  "interpreter": {
   "hash": "b552e9e2291ee47d97a6f9068176d4d60c8957403441ee997b7a7bce0cd7c764"
  },
  "kernelspec": {
   "display_name": "Python 3.10.4 64-bit",
   "language": "python",
   "name": "python3"
  },
  "language_info": {
   "codemirror_mode": {
    "name": "ipython",
    "version": 3
   },
   "file_extension": ".py",
   "mimetype": "text/x-python",
   "name": "python",
   "nbconvert_exporter": "python",
   "pygments_lexer": "ipython3",
   "version": "3.10.4"
  },
  "orig_nbformat": 4
 },
 "nbformat": 4,
 "nbformat_minor": 2
}
