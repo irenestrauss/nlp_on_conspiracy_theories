{
 "cells": [
  {
   "cell_type": "code",
   "execution_count": 1,
   "metadata": {},
   "outputs": [
    {
     "name": "stderr",
     "output_type": "stream",
     "text": [
      "[nltk_data] Downloading package vader_lexicon to\n",
      "[nltk_data]     C:\\Users\\1408\\AppData\\Roaming\\nltk_data...\n"
     ]
    }
   ],
   "source": [
    "import pandas as pd\n",
    "from sklearn.feature_extraction.text import TfidfVectorizer\n",
    "from textstat.textstat import *\n",
    "import re\n",
    "import nltk\n",
    "nltk.download('vader_lexicon')\n",
    "from sklearn.model_selection import train_test_split\n",
    "from sklearn.linear_model import LogisticRegression\n",
    "import joblib\n",
    "from sklearn.metrics import classification_report, confusion_matrix, ConfusionMatrixDisplay\n",
    "from nltk.sentiment import SentimentIntensityAnalyzer\n",
    "import numpy as np\n",
    "import matplotlib.pyplot as plt\n",
    "\n",
    "\n"
   ]
  },
  {
   "cell_type": "code",
   "execution_count": 2,
   "metadata": {},
   "outputs": [],
   "source": [
    "tokenizer = nltk.RegexpTokenizer(r\"\\w+\")\n",
    "lemmatizer = nltk.WordNetLemmatizer()"
   ]
  },
  {
   "cell_type": "code",
   "execution_count": 3,
   "metadata": {},
   "outputs": [],
   "source": [
    "type_of_content = \"filtered\"\n",
    "\n",
    "df_consp = pd.read_csv(f'./data/conspiracy_{type_of_content}.csv')\n",
    "df_consp['label'] = 0"
   ]
  },
  {
   "cell_type": "code",
   "execution_count": 4,
   "metadata": {},
   "outputs": [],
   "source": [
    "subreddit_control = \"ukraine\"\n",
    "df_control = pd.read_csv(f'./data/{subreddit_control}_{type_of_content}.csv')\n",
    "df_control['label'] = 1\n",
    "df_control\n",
    "df = pd.concat([df_consp, df_control], axis=0)\n"
   ]
  },
  {
   "cell_type": "code",
   "execution_count": 13,
   "metadata": {},
   "outputs": [],
   "source": [
    "submissions = df.title.apply(str).values"
   ]
  },
  {
   "cell_type": "code",
   "execution_count": 14,
   "metadata": {},
   "outputs": [],
   "source": [
    "def preprocessing(text):\n",
    "    text = str(text)\n",
    "    text = text.lower()\n",
    "    return re.sub(r\"(@\\[A-Za-z0-9]+)|(\\w+:\\/\\/\\S+)|^&gt;\",\"\",text)\n",
    "\n",
    "def tokenize(text):\n",
    "    text = re.sub(r\"[^0-9A-Za-z' \\t]\",\"\",text)\n",
    "    text = tokenizer.tokenize(text)\n",
    "    text = [lemmatizer.lemmatize(word, pos=\"v\") for word in text]\n",
    "    return text\n",
    "\n"
   ]
  },
  {
   "cell_type": "code",
   "execution_count": 15,
   "metadata": {},
   "outputs": [
    {
     "name": "stderr",
     "output_type": "stream",
     "text": [
      "c:\\Users\\1408\\AppData\\Local\\Programs\\Python\\Python310\\lib\\site-packages\\sklearn\\feature_extraction\\text.py:404: UserWarning: Your stop_words may be inconsistent with your preprocessing. Tokenizing the stop words generated tokens ['win'] not in stop_words.\n",
      "  warnings.warn(\n"
     ]
    }
   ],
   "source": [
    "tfidf_vectorizer = TfidfVectorizer(preprocessor=preprocessing,\n",
    "            tokenizer=tokenize,\n",
    "            stop_words=nltk.corpus.stopwords.words('english'),\n",
    "            ngram_range=(1,2),\n",
    "            min_df=5)\n",
    "tfidf = tfidf_vectorizer.fit_transform(submissions).toarray()\n"
   ]
  },
  {
   "cell_type": "code",
   "execution_count": 16,
   "metadata": {},
   "outputs": [],
   "source": [
    "SentimentAnalyzer = SentimentIntensityAnalyzer()\n",
    "sentiments = []\n",
    "for comment in submissions:\n",
    "    sentiment = SentimentAnalyzer.polarity_scores(comment)\n",
    "    sentiments.append([sentiment['pos'], sentiment['neg'], sentiment['neu']])\n",
    "\n"
   ]
  },
  {
   "cell_type": "code",
   "execution_count": 17,
   "metadata": {},
   "outputs": [
    {
     "data": {
      "text/plain": [
       "array([[ 12,   6],\n",
       "       [  0,   1],\n",
       "       [ 16,  10],\n",
       "       ...,\n",
       "       [ 58, 182],\n",
       "       [  0,   1],\n",
       "       [ 27,   0]], dtype=int64)"
      ]
     },
     "execution_count": 17,
     "metadata": {},
     "output_type": "execute_result"
    }
   ],
   "source": [
    "reddit_features = df[['num_comments', 'score']].to_numpy()\n",
    "reddit_features"
   ]
  },
  {
   "cell_type": "code",
   "execution_count": 18,
   "metadata": {},
   "outputs": [
    {
     "data": {
      "text/plain": [
       "(29446, 9368)"
      ]
     },
     "execution_count": 18,
     "metadata": {},
     "output_type": "execute_result"
    }
   ],
   "source": [
    "features = np.concatenate([tfidf, reddit_features, sentiments], axis=1)\n",
    "#features = np.concatenate([tfidf, sentiments], axis=1)\n",
    "\n",
    "features.shape"
   ]
  },
  {
   "cell_type": "code",
   "execution_count": 19,
   "metadata": {},
   "outputs": [],
   "source": [
    "X = pd.DataFrame(features)\n",
    "y = df['label'].values"
   ]
  },
  {
   "cell_type": "code",
   "execution_count": 24,
   "metadata": {},
   "outputs": [
    {
     "name": "stdout",
     "output_type": "stream",
     "text": [
      "              precision    recall  f1-score   support\n",
      "\n",
      "           0       0.45      0.74      0.56       738\n",
      "           1       0.96      0.87      0.91      5152\n",
      "\n",
      "    accuracy                           0.86      5890\n",
      "   macro avg       0.71      0.81      0.74      5890\n",
      "weighted avg       0.90      0.86      0.87      5890\n",
      "\n"
     ]
    }
   ],
   "source": [
    "X_train, X_test, y_train, y_test = train_test_split(X, y, test_size=0.20, random_state=42)\n",
    "model = LogisticRegression(random_state=42, max_iter=10000, class_weight='balanced').fit(X_train, y_train)\n",
    "#class_weight penalty='l2' multi_class='ovr', , C=0.01\n",
    "\n",
    "y_predict = model.predict(X_test)\n",
    "rep = classification_report(y_test, y_predict)\n",
    "\n",
    "print(rep)\n"
   ]
  },
  {
   "cell_type": "code",
   "execution_count": 25,
   "metadata": {},
   "outputs": [
    {
     "data": {
      "image/png": "[encoded data removed]",
      "text/plain": [
       "<Figure size 432x288 with 2 Axes>"
      ]
     },
     "metadata": {
      "needs_background": "light"
     },
     "output_type": "display_data"
    }
   ],
   "source": [
    "conf_matrix = confusion_matrix(y_test, y_predict, normalize='true')\n",
    "conf_matrix_display = ConfusionMatrixDisplay(confusion_matrix=conf_matrix)\n",
    "conf_matrix_display.plot(cmap='Blues')\n",
    "plt.savefig(f\"./images/model/{subreddit_control}_{type_of_content}.png\")"
   ]
  },
  {
   "cell_type": "markdown",
   "metadata": {},
   "source": [
    "results 93 83 mit pushshift"
   ]
  }
 ],
 "metadata": {
  "interpreter": {
   "hash": "b552e9e2291ee47d97a6f9068176d4d60c8957403441ee997b7a7bce0cd7c764"
  },
  "kernelspec": {
   "display_name": "Python 3.10.4 64-bit",
   "language": "python",
   "name": "python3"
  },
  "language_info": {
   "codemirror_mode": {
    "name": "ipython",
    "version": 3
   },
   "file_extension": ".py",
   "mimetype": "text/x-python",
   "name": "python",
   "nbconvert_exporter": "python",
   "pygments_lexer": "ipython3",
   "version": "3.10.4"
  },
  "orig_nbformat": 4
 },
 "nbformat": 4,
 "nbformat_minor": 2
}
