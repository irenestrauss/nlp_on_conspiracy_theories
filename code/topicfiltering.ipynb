{
 "cells": [
  {
   "cell_type": "code",
   "execution_count": 14,
   "metadata": {},
   "outputs": [
    {
     "name": "stdout",
     "output_type": "stream",
     "text": [
      "ukraine|russia|war|putin|russian|ukrainian|invasion|propaganda|russia ukraine|nuclear|nato|wef|conflict|military|ukraine russia|attack|nazi|nazis|zelensky|soldiers|war ukraine|fighting|russians|fight|ukraine war|sanctions|kyiv|nuclear war|kiev\n"
     ]
    },
    {
     "data": {
      "text/plain": [
       "(1214, 7)"
      ]
     },
     "execution_count": 14,
     "metadata": {},
     "output_type": "execute_result"
    }
   ],
   "source": [
    "import pandas as pd\n",
    "filename = f'./data/conspiracy_submissions_redditapi.csv'\n",
    "dataframe = pd.read_csv(filename)\n",
    "conspiracy_file = open(f\"./data/conspiracy_submissions_ukraine_words.txt\", \"r\")\n",
    "wordlist = conspiracy_file.read().split(\"\\n\")\n",
    "wordlist = wordlist[:-1]\n",
    "print('|'.join(wordlist))\n",
    "dataframe = dataframe[dataframe[\"title\"].str.contains('|'.join(wordlist))]\n",
    "dataframe.shape"
   ]
  },
  {
   "cell_type": "code",
   "execution_count": 3,
   "metadata": {},
   "outputs": [],
   "source": [
    "dataframe.to_csv(f'./data/conspiracy_filtered.csv', header=True, index=False, columns=list(dataframe.axes[1]), encoding='utf-8')"
   ]
  }
 ],
 "metadata": {
  "interpreter": {
   "hash": "b552e9e2291ee47d97a6f9068176d4d60c8957403441ee997b7a7bce0cd7c764"
  },
  "kernelspec": {
   "display_name": "Python 3.10.4 64-bit",
   "language": "python",
   "name": "python3"
  },
  "language_info": {
   "codemirror_mode": {
    "name": "ipython",
    "version": 3
   },
   "file_extension": ".py",
   "mimetype": "text/x-python",
   "name": "python",
   "nbconvert_exporter": "python",
   "pygments_lexer": "ipython3",
   "version": "3.10.4"
  },
  "orig_nbformat": 4
 },
 "nbformat": 4,
 "nbformat_minor": 2
}
