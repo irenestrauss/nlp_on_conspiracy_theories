{
 "cells": [
  {
   "cell_type": "code",
   "execution_count": 72,
   "metadata": {},
   "outputs": [],
   "source": [
    "import pandas as pd\n",
    "import re\n",
    "import nltk\n",
    "import contractions\n",
    "\n",
    "tokenizer = nltk.RegexpTokenizer(r\"\\w+\")\n",
    "lemmatizer = nltk.WordNetLemmatizer()\n",
    "\n",
    "SUBREDDIT = 'ukraine'\n",
    "filename = f'./data/{SUBREDDIT}_submissions_redditapi.csv'\n",
    "dataframe = pd.read_csv(filename)\n",
    "wordlist_file = open(f\"./data/ukraine_conflict_words.txt\", \"r\")\n",
    "wordlist = wordlist_file.read().split(\"\\n\")\n",
    "wordlist = wordlist[:-1]"
   ]
  },
  {
   "cell_type": "markdown",
   "metadata": {},
   "source": [
    "preprocessing with\n",
    "* lowercase\n",
    "* remove urls, usertags\n",
    "* join contractions\n",
    "* remove punctuation\n",
    "* tokenize\n",
    "* lemmatize"
   ]
  },
  {
   "cell_type": "code",
   "execution_count": 73,
   "metadata": {},
   "outputs": [],
   "source": [
    "def preprocessing(submission):\n",
    "    submission = str(submission)\n",
    "    submission = submission.lower()\n",
    "    #source https://www.regextester.com/93652\n",
    "    submission = re.sub(r\"(http:\\/\\/www\\.|https:\\/\\/www\\.|http:\\/\\/|https:\\/\\/)?[a-z0-9]+([\\-\\.]{1}[a-z0-9]+)*\\.[a-z]{2,5}(:[0-9]{1,5})?(\\/.*)?\",\"\",submission)\n",
    "    submission = re.sub(r\"(@\\[A-Za-z0-9]+)|(\\w+:\\/\\/\\S+)|^&gt;\",\"\",submission)\n",
    "    submission = \" \".join(contractions.fix(word) for word in submission.split())\n",
    "\n",
    "    submission = re.sub(r\"[^0-9A-Za-z \\t]\",\"\",submission)\n",
    "    submission = tokenizer.tokenize(submission)    \n",
    "    submission = \" \".join([lemmatizer.lemmatize(word, pos=get_pos_tag([word])) for word in submission])\n",
    "    return submission"
   ]
  },
  {
   "cell_type": "code",
   "execution_count": 74,
   "metadata": {},
   "outputs": [],
   "source": [
    "def get_pos_tag(word):\n",
    "    pos = nltk.pos_tag(word)\n",
    "    if pos[0][1].startswith('J'):\n",
    "        return 'a'\n",
    "    elif pos[0][1].startswith('V'):\n",
    "        return 'v'\n",
    "    elif pos[0][1].startswith('R'):\n",
    "        return 'r'\n",
    "    else :\n",
    "        return 'n'"
   ]
  },
  {
   "cell_type": "markdown",
   "metadata": {},
   "source": [
    "apply preprocessing on title and selftext"
   ]
  },
  {
   "cell_type": "code",
   "execution_count": 75,
   "metadata": {},
   "outputs": [],
   "source": [
    "dataframe['title'] = dataframe['title'].apply(preprocessing)\n",
    "dataframe['self_text'] = dataframe['self_text'].apply(preprocessing)"
   ]
  },
  {
   "cell_type": "markdown",
   "metadata": {},
   "source": [
    "filter only for submissions where either title or self text contains certain ukraine war related words"
   ]
  },
  {
   "cell_type": "code",
   "execution_count": 76,
   "metadata": {},
   "outputs": [
    {
     "name": "stdout",
     "output_type": "stream",
     "text": [
      "(36738, 12)\n",
      "(25567, 12)\n"
     ]
    }
   ],
   "source": [
    "print(dataframe.shape)\n",
    "\n",
    "filtered_dataframe = dataframe[dataframe[\"title\"].str.contains('|'.join(wordlist)) | dataframe[\"self_text\"].str.contains('|'.join(wordlist))]\n",
    "print(filtered_dataframe.shape)\n",
    "\n",
    "filtered_dataframe.to_csv(f'./data/{SUBREDDIT}_filtered.csv', header=True, index=False, columns=list(dataframe.axes[1]), encoding='utf-8')"
   ]
  }
 ],
 "metadata": {
  "interpreter": {
   "hash": "b552e9e2291ee47d97a6f9068176d4d60c8957403441ee997b7a7bce0cd7c764"
  },
  "kernelspec": {
   "display_name": "Python 3.10.4 64-bit",
   "language": "python",
   "name": "python3"
  },
  "language_info": {
   "codemirror_mode": {
    "name": "ipython",
    "version": 3
   },
   "file_extension": ".py",
   "mimetype": "text/x-python",
   "name": "python",
   "nbconvert_exporter": "python",
   "pygments_lexer": "ipython3",
   "version": "3.10.4"
  },
  "orig_nbformat": 4
 },
 "nbformat": 4,
 "nbformat_minor": 2
}
