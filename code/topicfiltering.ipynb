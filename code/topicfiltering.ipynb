{
 "cells": [
  {
   "cell_type": "code",
   "execution_count": 1,
   "metadata": {},
   "outputs": [
    {
     "data": {
      "text/plain": [
       "(7660, 7)"
      ]
     },
     "execution_count": 1,
     "metadata": {},
     "output_type": "execute_result"
    }
   ],
   "source": [
    "import pandas as pd\n",
    "filename = f'./data/ukraine_submissions_redditapi.csv'\n",
    "dataframe = pd.read_csv(filename)\n",
    "conspiracy_file = open(f\"./data/conspiracy_submissions_ukraine_words.txt\", \"r\")\n",
    "wordlist = conspiracy_file.read().split(\"\\n\")\n",
    "wordlist = wordlist[:-1]\n",
    "dataframe = dataframe[dataframe[\"title\"].str.contains('|'.join(wordlist))]\n",
    "dataframe.shape"
   ]
  },
  {
   "cell_type": "code",
   "execution_count": null,
   "metadata": {},
   "outputs": [],
   "source": [
    "dataframe.to_csv(f'./data/ukraine_ukraine_filtered.csv', header=True, index=False, columns=list(dataframe.axes[1]), encoding='utf-8')"
   ]
  }
 ],
 "metadata": {
  "interpreter": {
   "hash": "e7370f93d1d0cde622a1f8e1c04877d8463912d04d973331ad4851f04de6915a"
  },
  "kernelspec": {
   "display_name": "Python 3.10.2 64-bit",
   "language": "python",
   "name": "python3"
  },
  "language_info": {
   "codemirror_mode": {
    "name": "ipython",
    "version": 3
   },
   "file_extension": ".py",
   "mimetype": "text/x-python",
   "name": "python",
   "nbconvert_exporter": "python",
   "pygments_lexer": "ipython3",
   "version": "3.10.2"
  },
  "orig_nbformat": 4
 },
 "nbformat": 4,
 "nbformat_minor": 2
}
